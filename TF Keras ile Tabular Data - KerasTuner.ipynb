{
  "cells": [
    {
      "cell_type": "markdown",
      "metadata": {
        "id": "1yWgYqaCJ1pU"
      },
      "source": [
        "# Tabular Datada Keras Tuner ve Feature Space\n",
        "\n",
        "## -TF 2.12 ve üstü gereklidir-"
      ]
    },
    {
      "cell_type": "code",
      "execution_count": null,
      "metadata": {
        "colab": {
          "base_uri": "https://localhost:8080/"
        },
        "id": "g0h5N2QcXUUs",
        "outputId": "f27e66dc-15d5-46f1-8eea-b28043ff0c0e"
      },
      "outputs": [
        {
          "name": "stdout",
          "output_type": "stream",
          "text": [
            "Sun Apr 30 23:37:46 2023       \n",
            "+-----------------------------------------------------------------------------+\n",
            "| NVIDIA-SMI 525.85.12    Driver Version: 525.85.12    CUDA Version: 12.0     |\n",
            "|-------------------------------+----------------------+----------------------+\n",
            "| GPU  Name        Persistence-M| Bus-Id        Disp.A | Volatile Uncorr. ECC |\n",
            "| Fan  Temp  Perf  Pwr:Usage/Cap|         Memory-Usage | GPU-Util  Compute M. |\n",
            "|                               |                      |               MIG M. |\n",
            "|===============================+======================+======================|\n",
            "|   0  Tesla V100-SXM2...  Off  | 00000000:00:04.0 Off |                    0 |\n",
            "| N/A   34C    P0    23W / 300W |      0MiB / 16384MiB |      0%      Default |\n",
            "|                               |                      |                  N/A |\n",
            "+-------------------------------+----------------------+----------------------+\n",
            "                                                                               \n",
            "+-----------------------------------------------------------------------------+\n",
            "| Processes:                                                                  |\n",
            "|  GPU   GI   CI        PID   Type   Process name                  GPU Memory |\n",
            "|        ID   ID                                                   Usage      |\n",
            "|=============================================================================|\n",
            "|  No running processes found                                                 |\n",
            "+-----------------------------------------------------------------------------+\n"
          ]
        }
      ],
      "source": [
        "!nvidia-smi"
      ]
    },
    {
      "cell_type": "code",
      "execution_count": null,
      "metadata": {
        "colab": {
          "base_uri": "https://localhost:8080/"
        },
        "id": "P8elWIKfKWsU",
        "outputId": "82340e89-3ff1-406d-d27c-24c80a025593"
      },
      "outputs": [
        {
          "name": "stdout",
          "output_type": "stream",
          "text": [
            "Looking in indexes: https://pypi.org/simple, https://us-python.pkg.dev/colab-wheels/public/simple/\n",
            "Requirement already satisfied: keras_tuner in /usr/local/lib/python3.10/dist-packages (1.3.5)\n",
            "Requirement already satisfied: requests in /usr/local/lib/python3.10/dist-packages (from keras_tuner) (2.27.1)\n",
            "Requirement already satisfied: packaging in /usr/local/lib/python3.10/dist-packages (from keras_tuner) (23.1)\n",
            "Requirement already satisfied: kt-legacy in /usr/local/lib/python3.10/dist-packages (from keras_tuner) (1.0.5)\n",
            "Requirement already satisfied: urllib3<1.27,>=1.21.1 in /usr/local/lib/python3.10/dist-packages (from requests->keras_tuner) (1.26.15)\n",
            "Requirement already satisfied: idna<4,>=2.5 in /usr/local/lib/python3.10/dist-packages (from requests->keras_tuner) (3.4)\n",
            "Requirement already satisfied: certifi>=2017.4.17 in /usr/local/lib/python3.10/dist-packages (from requests->keras_tuner) (2022.12.7)\n",
            "Requirement already satisfied: charset-normalizer~=2.0.0 in /usr/local/lib/python3.10/dist-packages (from requests->keras_tuner) (2.0.12)\n"
          ]
        }
      ],
      "source": [
        "!pip install keras_tuner"
      ]
    },
    {
      "cell_type": "code",
      "execution_count": null,
      "metadata": {
        "colab": {
          "base_uri": "https://localhost:8080/",
          "height": 35
        },
        "id": "j2ZExHVWqkgz",
        "outputId": "e3fa181b-717f-4eff-bf97-02e62d56f429"
      },
      "outputs": [
        {
          "data": {
            "application/vnd.google.colaboratory.intrinsic+json": {
              "type": "string"
            },
            "text/plain": [
              "'2.12.0'"
            ]
          },
          "execution_count": 3,
          "metadata": {},
          "output_type": "execute_result"
        }
      ],
      "source": [
        "import tensorflow as tf\n",
        "import keras_tuner\n",
        "from tensorflow.keras.utils import FeatureSpace\n",
        "\n",
        "import pandas as pd\n",
        "\n",
        "import seaborn as sns\n",
        "import matplotlib.pyplot as plt\n",
        "\n",
        "import numpy as np\n",
        "\n",
        "from sklearn.metrics import roc_auc_score\n",
        "from sklearn.model_selection import train_test_split as tts\n",
        "\n",
        "tf.__version__ # 2.12"
      ]
    },
    {
      "cell_type": "code",
      "execution_count": null,
      "metadata": {
        "colab": {
          "base_uri": "https://localhost:8080/",
          "height": 363
        },
        "id": "qloM9fyDrktr",
        "outputId": "967ec6b4-77af-4b1d-b90f-84a71255f1e2"
      },
      "outputs": [
        {
          "data": {
            "text/html": [
              "\n",
              "  <div id=\"df-c325a450-bde7-4b39-bf2e-18d59031f364\">\n",
              "    <div class=\"colab-df-container\">\n",
              "      <div>\n",
              "<style scoped>\n",
              "    .dataframe tbody tr th:only-of-type {\n",
              "        vertical-align: middle;\n",
              "    }\n",
              "\n",
              "    .dataframe tbody tr th {\n",
              "        vertical-align: top;\n",
              "    }\n",
              "\n",
              "    .dataframe thead th {\n",
              "        text-align: right;\n",
              "    }\n",
              "</style>\n",
              "<table border=\"1\" class=\"dataframe\">\n",
              "  <thead>\n",
              "    <tr style=\"text-align: right;\">\n",
              "      <th></th>\n",
              "      <th>Month</th>\n",
              "      <th>DayofMonth</th>\n",
              "      <th>DayOfWeek</th>\n",
              "      <th>DepTime</th>\n",
              "      <th>UniqueCarrier</th>\n",
              "      <th>Origin</th>\n",
              "      <th>Dest</th>\n",
              "      <th>Distance</th>\n",
              "      <th>dep_delayed_15min</th>\n",
              "    </tr>\n",
              "  </thead>\n",
              "  <tbody>\n",
              "    <tr>\n",
              "      <th>44645</th>\n",
              "      <td>c-11</td>\n",
              "      <td>c-29</td>\n",
              "      <td>c-2</td>\n",
              "      <td>2015</td>\n",
              "      <td>DL</td>\n",
              "      <td>ATL</td>\n",
              "      <td>MEM</td>\n",
              "      <td>332</td>\n",
              "      <td>0</td>\n",
              "    </tr>\n",
              "    <tr>\n",
              "      <th>16547</th>\n",
              "      <td>c-7</td>\n",
              "      <td>c-19</td>\n",
              "      <td>c-3</td>\n",
              "      <td>1922</td>\n",
              "      <td>CO</td>\n",
              "      <td>EWR</td>\n",
              "      <td>IAH</td>\n",
              "      <td>1400</td>\n",
              "      <td>1</td>\n",
              "    </tr>\n",
              "    <tr>\n",
              "      <th>33779</th>\n",
              "      <td>c-9</td>\n",
              "      <td>c-26</td>\n",
              "      <td>c-1</td>\n",
              "      <td>1658</td>\n",
              "      <td>AA</td>\n",
              "      <td>BOS</td>\n",
              "      <td>ORD</td>\n",
              "      <td>867</td>\n",
              "      <td>0</td>\n",
              "    </tr>\n",
              "    <tr>\n",
              "      <th>69114</th>\n",
              "      <td>c-6</td>\n",
              "      <td>c-10</td>\n",
              "      <td>c-5</td>\n",
              "      <td>1540</td>\n",
              "      <td>OO</td>\n",
              "      <td>SLC</td>\n",
              "      <td>FCA</td>\n",
              "      <td>532</td>\n",
              "      <td>0</td>\n",
              "    </tr>\n",
              "    <tr>\n",
              "      <th>81360</th>\n",
              "      <td>c-3</td>\n",
              "      <td>c-27</td>\n",
              "      <td>c-7</td>\n",
              "      <td>1531</td>\n",
              "      <td>NW</td>\n",
              "      <td>DTW</td>\n",
              "      <td>LAN</td>\n",
              "      <td>74</td>\n",
              "      <td>0</td>\n",
              "    </tr>\n",
              "    <tr>\n",
              "      <th>40039</th>\n",
              "      <td>c-11</td>\n",
              "      <td>c-25</td>\n",
              "      <td>c-5</td>\n",
              "      <td>645</td>\n",
              "      <td>OH</td>\n",
              "      <td>OMA</td>\n",
              "      <td>CVG</td>\n",
              "      <td>614</td>\n",
              "      <td>0</td>\n",
              "    </tr>\n",
              "    <tr>\n",
              "      <th>57816</th>\n",
              "      <td>c-2</td>\n",
              "      <td>c-2</td>\n",
              "      <td>c-3</td>\n",
              "      <td>1245</td>\n",
              "      <td>WN</td>\n",
              "      <td>HOU</td>\n",
              "      <td>STL</td>\n",
              "      <td>687</td>\n",
              "      <td>0</td>\n",
              "    </tr>\n",
              "    <tr>\n",
              "      <th>93615</th>\n",
              "      <td>c-3</td>\n",
              "      <td>c-10</td>\n",
              "      <td>c-5</td>\n",
              "      <td>1823</td>\n",
              "      <td>FL</td>\n",
              "      <td>ATL</td>\n",
              "      <td>LAS</td>\n",
              "      <td>1747</td>\n",
              "      <td>0</td>\n",
              "    </tr>\n",
              "    <tr>\n",
              "      <th>66204</th>\n",
              "      <td>c-9</td>\n",
              "      <td>c-3</td>\n",
              "      <td>c-6</td>\n",
              "      <td>1123</td>\n",
              "      <td>WN</td>\n",
              "      <td>MDW</td>\n",
              "      <td>IND</td>\n",
              "      <td>162</td>\n",
              "      <td>0</td>\n",
              "    </tr>\n",
              "    <tr>\n",
              "      <th>49056</th>\n",
              "      <td>c-6</td>\n",
              "      <td>c-5</td>\n",
              "      <td>c-7</td>\n",
              "      <td>1237</td>\n",
              "      <td>OO</td>\n",
              "      <td>SMF</td>\n",
              "      <td>LAX</td>\n",
              "      <td>373</td>\n",
              "      <td>1</td>\n",
              "    </tr>\n",
              "  </tbody>\n",
              "</table>\n",
              "</div>\n",
              "      <button class=\"colab-df-convert\" onclick=\"convertToInteractive('df-c325a450-bde7-4b39-bf2e-18d59031f364')\"\n",
              "              title=\"Convert this dataframe to an interactive table.\"\n",
              "              style=\"display:none;\">\n",
              "        \n",
              "  <svg xmlns=\"http://www.w3.org/2000/svg\" height=\"24px\"viewBox=\"0 0 24 24\"\n",
              "       width=\"24px\">\n",
              "    <path d=\"M0 0h24v24H0V0z\" fill=\"none\"/>\n",
              "    <path d=\"M18.56 5.44l.94 2.06.94-2.06 2.06-.94-2.06-.94-.94-2.06-.94 2.06-2.06.94zm-11 1L8.5 8.5l.94-2.06 2.06-.94-2.06-.94L8.5 2.5l-.94 2.06-2.06.94zm10 10l.94 2.06.94-2.06 2.06-.94-2.06-.94-.94-2.06-.94 2.06-2.06.94z\"/><path d=\"M17.41 7.96l-1.37-1.37c-.4-.4-.92-.59-1.43-.59-.52 0-1.04.2-1.43.59L10.3 9.45l-7.72 7.72c-.78.78-.78 2.05 0 2.83L4 21.41c.39.39.9.59 1.41.59.51 0 1.02-.2 1.41-.59l7.78-7.78 2.81-2.81c.8-.78.8-2.07 0-2.86zM5.41 20L4 18.59l7.72-7.72 1.47 1.35L5.41 20z\"/>\n",
              "  </svg>\n",
              "      </button>\n",
              "      \n",
              "  <style>\n",
              "    .colab-df-container {\n",
              "      display:flex;\n",
              "      flex-wrap:wrap;\n",
              "      gap: 12px;\n",
              "    }\n",
              "\n",
              "    .colab-df-convert {\n",
              "      background-color: #E8F0FE;\n",
              "      border: none;\n",
              "      border-radius: 50%;\n",
              "      cursor: pointer;\n",
              "      display: none;\n",
              "      fill: #1967D2;\n",
              "      height: 32px;\n",
              "      padding: 0 0 0 0;\n",
              "      width: 32px;\n",
              "    }\n",
              "\n",
              "    .colab-df-convert:hover {\n",
              "      background-color: #E2EBFA;\n",
              "      box-shadow: 0px 1px 2px rgba(60, 64, 67, 0.3), 0px 1px 3px 1px rgba(60, 64, 67, 0.15);\n",
              "      fill: #174EA6;\n",
              "    }\n",
              "\n",
              "    [theme=dark] .colab-df-convert {\n",
              "      background-color: #3B4455;\n",
              "      fill: #D2E3FC;\n",
              "    }\n",
              "\n",
              "    [theme=dark] .colab-df-convert:hover {\n",
              "      background-color: #434B5C;\n",
              "      box-shadow: 0px 1px 3px 1px rgba(0, 0, 0, 0.15);\n",
              "      filter: drop-shadow(0px 1px 2px rgba(0, 0, 0, 0.3));\n",
              "      fill: #FFFFFF;\n",
              "    }\n",
              "  </style>\n",
              "\n",
              "      <script>\n",
              "        const buttonEl =\n",
              "          document.querySelector('#df-c325a450-bde7-4b39-bf2e-18d59031f364 button.colab-df-convert');\n",
              "        buttonEl.style.display =\n",
              "          google.colab.kernel.accessAllowed ? 'block' : 'none';\n",
              "\n",
              "        async function convertToInteractive(key) {\n",
              "          const element = document.querySelector('#df-c325a450-bde7-4b39-bf2e-18d59031f364');\n",
              "          const dataTable =\n",
              "            await google.colab.kernel.invokeFunction('convertToInteractive',\n",
              "                                                     [key], {});\n",
              "          if (!dataTable) return;\n",
              "\n",
              "          const docLinkHtml = 'Like what you see? Visit the ' +\n",
              "            '<a target=\"_blank\" href=https://colab.research.google.com/notebooks/data_table.ipynb>data table notebook</a>'\n",
              "            + ' to learn more about interactive tables.';\n",
              "          element.innerHTML = '';\n",
              "          dataTable['output_type'] = 'display_data';\n",
              "          await google.colab.output.renderOutput(dataTable, element);\n",
              "          const docLink = document.createElement('div');\n",
              "          docLink.innerHTML = docLinkHtml;\n",
              "          element.appendChild(docLink);\n",
              "        }\n",
              "      </script>\n",
              "    </div>\n",
              "  </div>\n",
              "  "
            ],
            "text/plain": [
              "      Month DayofMonth DayOfWeek  DepTime UniqueCarrier Origin Dest  Distance  \\\n",
              "44645  c-11       c-29       c-2     2015            DL    ATL  MEM       332   \n",
              "16547   c-7       c-19       c-3     1922            CO    EWR  IAH      1400   \n",
              "33779   c-9       c-26       c-1     1658            AA    BOS  ORD       867   \n",
              "69114   c-6       c-10       c-5     1540            OO    SLC  FCA       532   \n",
              "81360   c-3       c-27       c-7     1531            NW    DTW  LAN        74   \n",
              "40039  c-11       c-25       c-5      645            OH    OMA  CVG       614   \n",
              "57816   c-2        c-2       c-3     1245            WN    HOU  STL       687   \n",
              "93615   c-3       c-10       c-5     1823            FL    ATL  LAS      1747   \n",
              "66204   c-9        c-3       c-6     1123            WN    MDW  IND       162   \n",
              "49056   c-6        c-5       c-7     1237            OO    SMF  LAX       373   \n",
              "\n",
              "       dep_delayed_15min  \n",
              "44645                  0  \n",
              "16547                  1  \n",
              "33779                  0  \n",
              "69114                  0  \n",
              "81360                  0  \n",
              "40039                  0  \n",
              "57816                  0  \n",
              "93615                  0  \n",
              "66204                  0  \n",
              "49056                  1  "
            ]
          },
          "execution_count": 4,
          "metadata": {},
          "output_type": "execute_result"
        }
      ],
      "source": [
        "# Data linki: https://www.kaggle.com/competitions/flight-delays-fall-2018/overview\n",
        "df = pd.read_csv(\"/content/flight_delays_train.csv\")\n",
        "\n",
        "df['dep_delayed_15min'] = np.where(\n",
        "                            df['dep_delayed_15min'] == 'Y', 1, 0)\n",
        "\n",
        "df.dropna(inplace=True, axis=0)\n",
        "\n",
        "df.sample(10)"
      ]
    },
    {
      "cell_type": "code",
      "execution_count": null,
      "metadata": {
        "colab": {
          "base_uri": "https://localhost:8080/"
        },
        "id": "WTL0x21XyLqz",
        "outputId": "d6e10b11-1b75-4f1f-e44c-441765af1a64"
      },
      "outputs": [
        {
          "data": {
            "text/plain": [
              "0    80956\n",
              "1    19044\n",
              "Name: dep_delayed_15min, dtype: int64"
            ]
          },
          "execution_count": 5,
          "metadata": {},
          "output_type": "execute_result"
        }
      ],
      "source": [
        "df[\"dep_delayed_15min\"].value_counts()"
      ]
    },
    {
      "cell_type": "markdown",
      "source": [
        "## Datasetleri Oluşturma\n",
        "\n",
        "- Amacım pipeline kurmayı göstermek olduğu için EDA kısmını atlıyorum."
      ],
      "metadata": {
        "id": "ZTj2ihAB_LSR"
      }
    },
    {
      "cell_type": "code",
      "execution_count": null,
      "metadata": {
        "id": "SmMAczQ71oiv"
      },
      "outputs": [],
      "source": [
        "train_dataframe, valid_dataframe = tts(df, \n",
        "                                       train_size=0.8,\n",
        "                                       random_state=100)"
      ]
    },
    {
      "cell_type": "code",
      "execution_count": null,
      "metadata": {
        "colab": {
          "base_uri": "https://localhost:8080/"
        },
        "id": "Nyhokh4XI6oM",
        "outputId": "f669dc1e-2626-48ac-bb31-34d0bed09547"
      },
      "outputs": [
        {
          "data": {
            "text/plain": [
              "0    0.8077\n",
              "1    0.1923\n",
              "Name: dep_delayed_15min, dtype: float64"
            ]
          },
          "execution_count": 10,
          "metadata": {},
          "output_type": "execute_result"
        }
      ],
      "source": [
        "valid_dataframe[\"dep_delayed_15min\"].value_counts(normalize=True)"
      ]
    },
    {
      "cell_type": "code",
      "execution_count": null,
      "metadata": {
        "colab": {
          "base_uri": "https://localhost:8080/"
        },
        "id": "EH1W_lpvI_wk",
        "outputId": "9e5c8517-2632-4757-99a8-7b37c7b3e5c7"
      },
      "outputs": [
        {
          "data": {
            "text/plain": [
              "0    0.810025\n",
              "1    0.189975\n",
              "Name: dep_delayed_15min, dtype: float64"
            ]
          },
          "execution_count": 11,
          "metadata": {},
          "output_type": "execute_result"
        }
      ],
      "source": [
        "train_dataframe[\"dep_delayed_15min\"].value_counts(normalize=True)"
      ]
    },
    {
      "cell_type": "code",
      "execution_count": null,
      "metadata": {
        "id": "5YQ5rQlmSMSk"
      },
      "outputs": [],
      "source": [
        "feature_type_mapping = {\n",
        "        \"Month\": \"string_categorical\",\n",
        "        \"DayofMonth\": \"string_categorical\",\n",
        "        \"DayOfWeek\": \"string_categorical\",\n",
        "        \"UniqueCarrier\": \"string_categorical\",\n",
        "        \"Origin\": \"string_categorical\",\n",
        "        \"Dest\": \"string_categorical\",\n",
        "        \"DepTime\": \"float_normalized\",\n",
        "        \"Distance\": \"float_normalized\",\n",
        "    }"
      ]
    },
    {
      "cell_type": "code",
      "execution_count": null,
      "metadata": {
        "colab": {
          "base_uri": "https://localhost:8080/"
        },
        "id": "MIRPCeIzSJ-E",
        "outputId": "5440ffc5-c230-4a52-a171-902be97de5e6"
      },
      "outputs": [
        {
          "name": "stdout",
          "output_type": "stream",
          "text": [
            "Column Month değerleri kontrol ediliyor\n",
            "Column DayofMonth değerleri kontrol ediliyor\n",
            "Column DayOfWeek değerleri kontrol ediliyor\n",
            "Column UniqueCarrier değerleri kontrol ediliyor\n",
            "Column Origin değerleri kontrol ediliyor\n",
            "\tNadir kategoriler --> Index(['KOA', 'MSN', 'LBB', 'JAN', 'CAK', 'MDT', 'LEX', 'MAF', 'SGF', 'AMA',\n",
            "       ...\n",
            "       'TEX', 'RFD', 'AKN', 'ADK', 'BLI', 'GST', 'WYS', 'VCT', 'VIS', 'OAJ'],\n",
            "      dtype='object', length=188)\n",
            "Column Dest değerleri kontrol ediliyor\n",
            "\tNadir kategoriler --> Index(['CAE', 'LBB', 'KOA', 'CAK', 'MSN', 'AMA', 'CRP', 'MDT', 'CID', 'SRQ',\n",
            "       ...\n",
            "       'SOP', 'GST', 'BLI', 'DLG', 'ACK', 'VCT', 'LWB', 'TTN', 'TEX', 'WYS'],\n",
            "      dtype='object', length=189)\n"
          ]
        }
      ],
      "source": [
        "def replace_rare_categories(train_data, val_data, columns, threshold=30):\n",
        "    \"\"\"\n",
        "    Eğitim verilerinde belirtilen eşik değerinden daha az görünen kategorileri\n",
        "    'Other' adlı yeni bir kategoriyle değiştirir.\n",
        "    \n",
        "    Parametreler\n",
        "    ----------\n",
        "    train_data : pd.DataFrame\n",
        "        Eğitim veri seti.\n",
        "    val_data : pd.DataFrame\n",
        "        Doğrulama veri seti.\n",
        "    columns : dict\n",
        "        Değiştirilecek sütunların adlarını ve türlerini içeren sözlük.\n",
        "    threshold : int, optional (default=30)\n",
        "        Kategorilerin nadir sayılması için kullanılacak eşik değeri.\n",
        "\n",
        "    Returns\n",
        "    -------\n",
        "    train_data : pd.DataFrame\n",
        "        Kategorileri değiştirilmiş eğitim veri seti.\n",
        "    val_data : pd.DataFrame\n",
        "        Kategorileri değiştirilmiş doğrulama veri seti.\n",
        "    replaced_categories : dict\n",
        "        Değiştirilen nadir kategorileri içeren sözlük.\n",
        "    \"\"\"\n",
        "    replaced_categories = {}\n",
        "    \n",
        "    for column, column_type in columns.items():\n",
        "        if column_type == \"string_categorical\":\n",
        "            print(f\"Column {column} değerleri kontrol ediliyor\")\n",
        "            \n",
        "            value_counts = train_data[column].value_counts()\n",
        "            rare_categories = value_counts.iloc[threshold:].index\n",
        "            \n",
        "            if len(rare_categories):\n",
        "                print(f\"\\tNadir kategoriler --> {rare_categories}\")\n",
        "                replaced_categories[column] = rare_categories\n",
        "                \n",
        "                train_data[column] = train_data[column].replace(rare_categories,\n",
        "                                                                \"Other\")\n",
        "                val_data[column] = val_data[column].replace(rare_categories, \n",
        "                                                            \"Other\")\n",
        "    \n",
        "    return train_data, val_data, replaced_categories\n",
        "\n",
        "train_dataframe, valid_dataframe, replaced_categories = replace_rare_categories(\n",
        "                                                        train_dataframe,\n",
        "                                                        valid_dataframe,\n",
        "                                                        feature_type_mapping,\n",
        "                                                        threshold=100)"
      ]
    },
    {
      "cell_type": "code",
      "execution_count": null,
      "metadata": {
        "colab": {
          "base_uri": "https://localhost:8080/"
        },
        "id": "UvVJxwbWTz2b",
        "outputId": "3527b4e2-f2f7-4fae-9c81-4a6d040e97de"
      },
      "outputs": [
        {
          "data": {
            "text/plain": [
              "Other    6360\n",
              "ATL      4671\n",
              "ORD      3855\n",
              "DFW      3387\n",
              "LAX      2639\n",
              "         ... \n",
              "HSV       131\n",
              "BTR       125\n",
              "LGB       124\n",
              "LIH       121\n",
              "PNS       121\n",
              "Name: Origin, Length: 101, dtype: int64"
            ]
          },
          "execution_count": 14,
          "metadata": {},
          "output_type": "execute_result"
        }
      ],
      "source": [
        "train_dataframe[\"Origin\"].value_counts()"
      ]
    },
    {
      "cell_type": "code",
      "execution_count": null,
      "metadata": {
        "id": "b36yl8G80mmz"
      },
      "outputs": [],
      "source": [
        "def dataframe_to_tf_data(dataframe: pd.DataFrame,\n",
        "                         shuffle: bool,\n",
        "                         target: str) -> tf.data.Dataset:\n",
        "    \"\"\"\n",
        "    Verilen pandas DataFrame'ini TensorFlow Dataset'e dönüştürür.\n",
        "    \n",
        "    Parametreler\n",
        "    ----------\n",
        "    dataframe : pd.DataFrame\n",
        "        Dönüştürülecek pandas DataFrame.\n",
        "    shuffle : bool\n",
        "        Veri setini karıştırma seçeneği. Eğer True ise, veri seti karıştırılır.\n",
        "    target : str\n",
        "        Hedef sütunun adı.\n",
        "        \n",
        "    Returns\n",
        "    -------\n",
        "    ds : tf.data.Dataset\n",
        "        Dönüştürülmüş TensorFlow Dataset.\n",
        "\n",
        "    \"\"\"\n",
        "    copy_df = dataframe.copy()\n",
        "    labels = copy_df.pop(target)\n",
        "    \n",
        "    ds = tf.data.Dataset.from_tensor_slices((dict(copy_df), \n",
        "                                             labels))\n",
        "    if shuffle:\n",
        "        ds = ds.shuffle(buffer_size=len(copy_df))\n",
        "    \n",
        "    return ds\n",
        "\n",
        "train_ds = dataframe_to_tf_data(train_dataframe, \n",
        "                                shuffle=True,\n",
        "                                target=\"dep_delayed_15min\")\n",
        "\n",
        "valid_ds = dataframe_to_tf_data(valid_dataframe, \n",
        "                                shuffle=False,\n",
        "                                target=\"dep_delayed_15min\")"
      ]
    },
    {
      "cell_type": "markdown",
      "metadata": {
        "id": "jxCd-PFyPhvO"
      },
      "source": [
        "## Feature Space Oluşturma :o"
      ]
    },
    {
      "cell_type": "markdown",
      "source": [
        "```python\n",
        "feature_type_mapping = {\n",
        "        \"Month\": \"string_categorical\",\n",
        "        \"DayofMonth\": \"string_categorical\",\n",
        "        \"DayOfWeek\": \"string_categorical\",\n",
        "        \"UniqueCarrier\": \"string_categorical\",\n",
        "        \"Origin\": \"string_categorical\",\n",
        "        \"Dest\": \"string_categorical\",\n",
        "        \"DepTime\": \"float_normalized\",\n",
        "        \"Distance\": \"float_normalized\",\n",
        "    }\n",
        "```\n",
        "\n",
        "`FeatureSpace` kullanmak için bir dictionary kullanmamız gerekiyor, mevcut değerler şunlardan biri olabilir:\n",
        " * `integer_categorical`\n",
        " * `string_categorical`\n",
        " * `float_discretized` --> numeric olup, discretize edilir. Mesela yaş diye bir column'unuz varsa bunun içine girecektir.\n",
        " * `float_normalized` --> normalize edilecek numeric columnlar\n",
        "\n",
        " \n",
        " \n",
        " Varsayılan olarak kategorik columnlar one-hot-encoding şekline getirilir."
      ],
      "metadata": {
        "id": "-hSHUfuYz1iA"
      }
    },
    {
      "cell_type": "code",
      "execution_count": null,
      "metadata": {
        "id": "5j8CGJW70miw"
      },
      "outputs": [],
      "source": [
        "feature_space = FeatureSpace(\n",
        "    features=feature_type_mapping,\n",
        "    \n",
        "    # https://www.tensorflow.org/api_docs/python/tf/keras/layers/HashedCrossing\n",
        "    # crossing kısmı için yukarıda layer ve çıktıları inceleyebilirsiniz.\n",
        "    # Kısaca verdiğimiz (şuanda sadece kategorik verdik) columnlardan yeni\n",
        "    # özellikler oluşturuyor.\n",
        "    crosses=[(\"Month\", \"DayOfWeek\"), \n",
        "             (\"Origin\", \"Dest\"),\n",
        "             (\"UniqueCarrier\", \"Origin\")],\n",
        "    \n",
        "    # Hash uzayının boyutu 64 olacak.\n",
        "    crossing_dim=64,\n",
        "    \n",
        "    # FeatureSpace classı bizim için bulunan özellik kadar input oluşturacak.\n",
        "    # Mesela 8 column varsa, 8 input olacak ve bunlar farklı şekilde işlenecek.\n",
        "    # Kategorikler OHE uygulanacak, numericler normalize edilecek. Bunlar ayrı\n",
        "    # ayrı input olduğu için (crossingler mevcut inputlardan türeyecek) en sonunda\n",
        "    # concat edilecek.\n",
        "    # Örn: OHE yapılmış columndan (None, 20) shape ve normalize edilmiş numeric\n",
        "    # column (None, 1) --> concat sonucu shape (None, 21) olacaktır.\n",
        "\n",
        "    # Bu aşamada oluşan input layerlar:\n",
        "    #   {'Month': <KerasTensor: shape=(None, 1) dtype=string (created by layer 'Month')>,\n",
        "    #  'DayofMonth': <KerasTensor: shape=(None, 1) dtype=string (created by layer 'DayofMonth')>,\n",
        "    #  'DayOfWeek': <KerasTensor: shape=(None, 1) dtype=string (created by layer 'DayOfWeek')>,\n",
        "    #  'UniqueCarrier': <KerasTensor: shape=(None, 1) dtype=string (created by layer 'UniqueCarrier')>,\n",
        "    #  'Origin': <KerasTensor: shape=(None, 1) dtype=string (created by layer 'Origin')>,\n",
        "    #  'Dest': <KerasTensor: shape=(None, 1) dtype=string (created by layer 'Dest')>,\n",
        "    #  'DepTime': <KerasTensor: shape=(None, 1) dtype=float32 (created by layer 'DepTime')>,\n",
        "    #  'Distance': <KerasTensor: shape=(None, 1) dtype=float32 (created by layer 'Distance')>}\n",
        "\n",
        "    output_mode=\"concat\",\n",
        ")"
      ]
    },
    {
      "cell_type": "code",
      "execution_count": null,
      "metadata": {
        "id": "FTQFGhq30mgE"
      },
      "outputs": [],
      "source": [
        "# tf.data içinde labelları barındırdığı için ilk başta labelları olmayan train \n",
        "# verisini oluşturalım.\n",
        "train_ds_with_no_labels = train_ds.batch(64).map(lambda x, _: x)\n",
        "\n",
        "# Preprocessing layerlarında adapt methodu bulunur. FeatureSpace class'ı da bu\n",
        "# methodu bulundurur. Değerleri öğrenmek için train datasını tarayıp, değerleri saklar.\n",
        "# Mesela normalizasyon işlemi için train datasındaki mean ve varyansı öğrenir.\n",
        "# Kategorik columnlar da aynı şekilde bir işleme mevcuttur.\n",
        "feature_space.adapt(train_ds_with_no_labels)"
      ]
    },
    {
      "cell_type": "code",
      "execution_count": null,
      "metadata": {
        "colab": {
          "base_uri": "https://localhost:8080/"
        },
        "id": "vOBAkbeP0mdx",
        "outputId": "db927f75-afcd-4270-bb10-6a48d9a06f42"
      },
      "outputs": [
        {
          "name": "stdout",
          "output_type": "stream",
          "text": [
            "preprocessed_x.shape: (32, 474)\n",
            "preprocessed_x.dtype: <dtype: 'float32'>\n"
          ]
        }
      ],
      "source": [
        "# 474 column olmuş, OHE'den dolayı da fazla column oldu. Veya kategorikleri daha iyi bir şekilde\n",
        "# işlemek isterseniz, integer şekilde encode edip, Embedding layerına verip vektörler halinde\n",
        "# kullanmayı deneyebilirsiniz.\n",
        "for x, _ in train_ds.batch(32).take(1):\n",
        "    preprocessed_x = feature_space(x)\n",
        "    print(\"preprocessed_x.shape:\", preprocessed_x.shape)\n",
        "    print(\"preprocessed_x.dtype:\", preprocessed_x.dtype)"
      ]
    },
    {
      "cell_type": "code",
      "execution_count": null,
      "metadata": {
        "id": "rL62G1948Gnc"
      },
      "outputs": [],
      "source": [
        "# Preprocessing aşamasını isterseniz modele gömersiniz veya tf.data'ya map \n",
        "# kullanarak uygulayabilirsiniz. Bu layerları modele nasıl atacağınızı aşağıda\n",
        "# açıklayacağım.\n",
        "\n",
        "# Batch - Map --> Vektörize operasyonlar\n",
        "\n",
        "train_ds = train_ds.batch(256).map(\n",
        "    lambda x, y: (feature_space(x), y), num_parallel_calls=tf.data.AUTOTUNE\n",
        ")\n",
        "train_ds = train_ds.cache().prefetch(tf.data.AUTOTUNE)\n",
        "\n",
        "valid_ds = valid_ds.batch(256).map(\n",
        "    lambda x, y: (feature_space(x), y), num_parallel_calls=tf.data.AUTOTUNE\n",
        ")\n",
        "valid_ds = valid_ds.cache().prefetch(tf.data.AUTOTUNE)"
      ]
    },
    {
      "cell_type": "markdown",
      "metadata": {
        "id": "ChVRni-tQD_S"
      },
      "source": [
        "## Keras Tuner Kurmak"
      ]
    },
    {
      "cell_type": "code",
      "execution_count": null,
      "metadata": {
        "id": "Tk7b0v_P54ez"
      },
      "outputs": [],
      "source": [
        "def build_model(hp):\n",
        "    \"\"\"\n",
        "    Hiperparametre araması için bir Keras modeli oluşturur.\n",
        "\n",
        "    Parametreler\n",
        "    ----------\n",
        "    hp : kerastuner.HyperParameters\n",
        "        Keras Tuner için hiperparametreler nesnesi.\n",
        "\n",
        "    Returns\n",
        "    -------\n",
        "    model : tf.keras.Model\n",
        "        Tune edilmiş parametrelerle oluşturulmuş Keras modeli.\n",
        "    \"\"\"\n",
        "    \n",
        "    encoded_features = feature_space.get_encoded_features()\n",
        "    # <KerasTensor: shape=(None, 474) dtype=float32 (created by layer 'concatenate')>\n",
        "\n",
        "    x = encoded_features\n",
        "    # Convolution layer eklemek isterseniz bu şekilde yapmanız gerekiyor.\n",
        "    # x = tf.keras.layers.Lambda kısmını silmeyin! Conv1D için shape 3D (batch size dahil) olmalı\n",
        "    # Alttaki conv layer kısmını altta yaptığım gibi for döngüsüne alabilirsiniz\n",
        "    # fakat GlobalPooling eklemeyi unutmayın. Flatten layer da olabilir.\n",
        "    \n",
        "    # x = tf.keras.layers.Lambda(lambda x: tf.expand_dims(x, axis=-1))(x)\n",
        "\n",
        "    # x = tf.keras.layers.Conv1D(\n",
        "    #         filters=hp.Int(f\"filters_cnn\", 8, 32, step=4), \n",
        "    #         activation=hp.Choice(\"activation_cnn\", [\"relu\", \n",
        "    #                                             \"elu\",\n",
        "    #                                             \"swish\"]),\n",
        "    #         kernel_size=3, padding=\"same\")(x)\n",
        "    # x = tf.keras.layers.MaxPool1D(pool_size = hp.Int(f\"pool_size\",\n",
        "    #                                                  2, 4, step=1))(x)\n",
        "\n",
        "    # x = tf.keras.layers.GlobalAveragePooling1D()(x)\n",
        "\n",
        "    # Kaç tane MLP layerı olsun?\n",
        "    for i in range(hp.Int(\"mlp_layers\", 1, 5)):\n",
        "\n",
        "        x = tf.keras.layers.Dense(\n",
        "            # Her layerda farklı unitler olabilir.\n",
        "            units=hp.Int(f\"units_{i}\", 32, 256, step=32), \n",
        "\n",
        "            # Aktivasyonlar aynı fakat değiştirilebilir.\n",
        "            activation=hp.Choice(\"activation_dense\", [\"relu\", \n",
        "                                                \"elu\",\n",
        "                                                \"swish\"]),\n",
        "        )(x)\n",
        "        # Her layer sonrası farklı dropout rate olabilir.\n",
        "        x = tf.keras.layers.Dropout(hp.Float(f'dropout_{i}', 0.01, 0.5,\n",
        "                                                sampling='log'))(x)\n",
        "\n",
        "    # x = tf.keras.layers.Dropout(hp.Float('dropout_general', 0.1, 0.5,\n",
        "    #                                      sampling='log'))(x)\n",
        "\n",
        "    # Binary classification olduğu için sigmoid aktivasyonu\n",
        "    outputs = tf.keras.layers.Dense(units=1, activation=\"sigmoid\")(x)\n",
        "\n",
        "    # Modelde şuan encoding aşaması vb yok.\n",
        "    model = tf.keras.Model(inputs=encoded_features, outputs=outputs)\n",
        "\n",
        "    # Yukarıda dediğim gibi dahil etmek isterseniz:\n",
        "    # model = tf.keras.Model(inputs = feature_space.get_inputs(), outputs=outputs)\n",
        "    # Fakat bu sefer datasetlerin işlemesinde hata alabilirsiniz.\n",
        "    # Bu modeli daha çok productiona vermek için kullanabilirsiniz, inputları\n",
        "    # dict şekilde verdiğinizde kendisi işleyecektir. Bunu daha detaylı olarak\n",
        "    # farklı notebooklarda ele alacağım.\n",
        "\n",
        "    # Farklı optimizer ve LR seçimleri deneyelim.\n",
        "    optimizer_name = hp.Choice(\"optimizer\", [\"adam\", \"rmsprop\"])\n",
        "    learning_rate = hp.Float('learning_rate', 1e-4, 1e-1, sampling='log')\n",
        "\n",
        "    # Seçilen değerleri optimizerlara pass etmek için.\n",
        "    optimizer_dict = {\n",
        "        'adam': tf.keras.optimizers.Adam,\n",
        "        'rmsprop': tf.keras.optimizers.RMSprop\n",
        "    }\n",
        "\n",
        "    optimizer = optimizer_dict[optimizer_name](learning_rate=learning_rate)\n",
        "    \n",
        "    # İki farklı loss deneyelim, BinaryFocalCrossentropy çok dengesiz verisetlerinde\n",
        "    # kullanılan bir loss fonksiyonudur.\n",
        "    loss_name = hp.Choice(\"loss\", [\"binary_crossentropy\",\n",
        "                                   \"binary_focal_crossentropy\"])\n",
        "\n",
        "    loss_dict = {\n",
        "        'binary_crossentropy': tf.keras.losses.BinaryCrossentropy(),\n",
        "        'binary_focal_crossentropy': tf.keras.losses.BinaryFocalCrossentropy(\n",
        "            apply_class_balancing=hp.Choice(\"apply_class_balancing\", [True,\n",
        "                                                                      False]))\n",
        "    }\n",
        "\n",
        "    loss = loss_dict[loss_name]\n",
        "\n",
        "    model.compile(\n",
        "        optimizer=optimizer, \n",
        "        loss=loss,\n",
        "        metrics=[tf.keras.metrics.BinaryAccuracy(),\n",
        "                 tf.keras.metrics.AUC()]\n",
        "    )\n",
        "    return model"
      ]
    },
    {
      "cell_type": "markdown",
      "metadata": {
        "id": "UWl2A3KjQfSd"
      },
      "source": [
        "### Bayesian Optimization"
      ]
    },
    {
      "cell_type": "code",
      "execution_count": null,
      "metadata": {
        "id": "3JoYqPVn6jSd"
      },
      "outputs": [],
      "source": [
        "tuner = keras_tuner.BayesianOptimization(\n",
        "    build_model,\n",
        "    # 50 deneme yapılacak.\n",
        "    max_trials=50,\n",
        "    overwrite=True,\n",
        "    # val_auc'u maksimize etmeye çalışalım.\n",
        "    objective=keras_tuner.Objective(\"val_auc\", direction=\"max\"),\n",
        "    directory=\"/tmp/keras_tuner_bayesian_results\",\n",
        ")"
      ]
    },
    {
      "cell_type": "code",
      "execution_count": null,
      "metadata": {
        "colab": {
          "background_save": true,
          "base_uri": "https://localhost:8080/"
        },
        "id": "RXNJETTC657L",
        "outputId": "ba457201-0c3a-4da3-e76f-31d12ff5ac99"
      },
      "outputs": [
        {
          "name": "stdout",
          "output_type": "stream",
          "text": [
            "Trial 50 Complete [00h 03m 13s]\n",
            "val_auc: 0.7119433283805847\n",
            "\n",
            "Best val_auc So Far: 0.727103054523468\n",
            "Total elapsed time: 01h 19m 31s\n"
          ]
        }
      ],
      "source": [
        "tuner.search(\n",
        "    train_ds,\n",
        "    validation_data=valid_ds,\n",
        "    epochs=100,\n",
        "    callbacks=[tf.keras.callbacks.TensorBoard(\"/tmp/keras_tuner_bayesian_results\"),\n",
        "               tf.keras.callbacks.ReduceLROnPlateau(\n",
        "                   monitor=\"val_loss\",\n",
        "                   patience=5,\n",
        "                   verbose=1,\n",
        "                   min_lr=1e-08,\n",
        "                   factor = 0.1\n",
        "               ),\n",
        "               tf.keras.callbacks.EarlyStopping(\n",
        "                   patience=18,\n",
        "                   restore_best_weights=True,\n",
        "                   verbose=1,\n",
        "                   monitor=\"val_loss\"\n",
        "               )\n",
        "               ],\n",
        ")"
      ]
    },
    {
      "cell_type": "markdown",
      "source": [
        "Örnek çıktı:\n",
        "\n",
        "```\n",
        "Value             |Best Value So Far |Hyperparameter\n",
        "5                 |5                 |mlp_layers\n",
        "96                |96                |units_0\n",
        "swish             |swish             |activation_dense\n",
        "0.070805          |0.070805          |dropout_0\n",
        "rmsprop           |rmsprop           |optimizer\n",
        "0.0019492         |0.0019492         |learning_rate\n",
        "binary_crossent...|binary_crossent...|loss\n",
        "1                 |1                 |apply_class_balancing\n",
        "```"
      ],
      "metadata": {
        "id": "LLEXSLix9f3t"
      }
    },
    {
      "cell_type": "markdown",
      "metadata": {
        "id": "ISRlKTenRLEH"
      },
      "source": [
        "## Tensorboard ile Sonuçlara Bakmak"
      ]
    },
    {
      "cell_type": "code",
      "execution_count": null,
      "metadata": {
        "colab": {
          "background_save": true
        },
        "id": "ZgUemtpOOTOD"
      },
      "outputs": [],
      "source": [
        "%load_ext tensorboard\n",
        "%tensorboard --logdir /tmp/keras_tuner_bayesian_results"
      ]
    },
    {
      "cell_type": "markdown",
      "metadata": {
        "id": "wUDTDG6bQzlY"
      },
      "source": [
        "## En İyi Modeli Almak"
      ]
    },
    {
      "cell_type": "code",
      "execution_count": null,
      "metadata": {
        "colab": {
          "background_save": true
        },
        "id": "-RchWDUBY7D2",
        "outputId": "9ad4e5a7-2ed2-4cfe-c1bf-db206bd067c8"
      },
      "outputs": [
        {
          "data": {
            "text/plain": [
              "<keras_tuner.engine.hyperparameters.hyperparameters.HyperParameters at 0x7fcf40431540>"
            ]
          },
          "execution_count": 24,
          "metadata": {},
          "output_type": "execute_result"
        }
      ],
      "source": [
        "best_hyperparameters = tuner.get_best_hyperparameters(num_trials=1)[0]\n",
        "best_hyperparameters"
      ]
    },
    {
      "cell_type": "code",
      "execution_count": null,
      "metadata": {
        "colab": {
          "background_save": true
        },
        "id": "OO8UZ5iAZCaf"
      },
      "outputs": [],
      "source": [
        "best_model = tuner.get_best_models()[0]"
      ]
    },
    {
      "cell_type": "code",
      "execution_count": null,
      "metadata": {
        "colab": {
          "background_save": true
        },
        "id": "1uPgk8bwZLhA",
        "outputId": "8e0e5370-08fe-4f60-bc6b-b448490dc722"
      },
      "outputs": [
        {
          "name": "stdout",
          "output_type": "stream",
          "text": [
            "79/79 [==============================] - 0s 3ms/step - loss: 0.1141 - binary_accuracy: 0.8131 - auc: 0.7271\n"
          ]
        },
        {
          "data": {
            "text/plain": [
              "[0.11408457905054092, 0.8131499886512756, 0.727103054523468]"
            ]
          },
          "execution_count": 26,
          "metadata": {},
          "output_type": "execute_result"
        }
      ],
      "source": [
        "best_model.evaluate(valid_ds)"
      ]
    },
    {
      "cell_type": "code",
      "execution_count": null,
      "metadata": {
        "colab": {
          "background_save": true
        },
        "id": "wWfko2giZlOp"
      },
      "outputs": [],
      "source": []
    }
  ],
  "metadata": {
    "accelerator": "GPU",
    "colab": {
      "provenance": []
    },
    "gpuClass": "standard",
    "kernelspec": {
      "display_name": "Python 3",
      "name": "python3"
    },
    "language_info": {
      "name": "python"
    }
  },
  "nbformat": 4,
  "nbformat_minor": 0
}