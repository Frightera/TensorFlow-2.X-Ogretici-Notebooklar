{
  "nbformat": 4,
  "nbformat_minor": 0,
  "metadata": {
    "colab": {
      "provenance": [],
      "toc_visible": true,
      "machine_shape": "hm",
      "gpuType": "V100"
    },
    "kernelspec": {
      "name": "python3",
      "display_name": "Python 3"
    },
    "language_info": {
      "name": "python"
    },
    "accelerator": "GPU"
  },
  "cells": [
    {
      "cell_type": "markdown",
      "source": [
        "# https://github.com/Frightera"
      ],
      "metadata": {
        "id": "2lnah55veSMn"
      }
    },
    {
      "cell_type": "markdown",
      "source": [
        "## Kütüphaneler"
      ],
      "metadata": {
        "id": "zWgy_5FSfLDI"
      }
    },
    {
      "cell_type": "code",
      "source": [
        "!pip install tensorflow-datasets"
      ],
      "metadata": {
        "id": "fG8RkPOAKF2e"
      },
      "execution_count": null,
      "outputs": []
    },
    {
      "cell_type": "code",
      "execution_count": 1,
      "metadata": {
        "id": "7PsDzDuSXaIz"
      },
      "outputs": [],
      "source": [
        "import tensorflow as tf\n",
        "import tensorflow_datasets as tfds"
      ]
    },
    {
      "cell_type": "markdown",
      "source": [
        "## TensorFlow Datasets ve tf.data API"
      ],
      "metadata": {
        "id": "7YogV2bCeZoT"
      }
    },
    {
      "cell_type": "code",
      "source": [
        "# Cifar100\n",
        "train_ds, test_ds = tfds.load(\"cifar100\", \n",
        "                              split = [\"train\", \"test\"],\n",
        "                              as_supervised = True)"
      ],
      "metadata": {
        "id": "B1myGn4JffLe"
      },
      "execution_count": 13,
      "outputs": []
    },
    {
      "cell_type": "code",
      "source": [
        "len(train_ds)"
      ],
      "metadata": {
        "colab": {
          "base_uri": "https://localhost:8080/"
        },
        "id": "tini068UOckM",
        "outputId": "8050fc3c-59a4-48ec-971f-d701fac6489d"
      },
      "execution_count": 15,
      "outputs": [
        {
          "output_type": "execute_result",
          "data": {
            "text/plain": [
              "50000"
            ]
          },
          "metadata": {},
          "execution_count": 15
        }
      ]
    },
    {
      "cell_type": "code",
      "source": [
        "# item{\"image\"}, item{\"label\"}"
      ],
      "metadata": {
        "id": "1FHe71v4LU--"
      },
      "execution_count": null,
      "outputs": []
    },
    {
      "cell_type": "code",
      "source": [
        "for image, label in train_ds.take(1):\n",
        "    print(image / 255)\n",
        "    print(label)"
      ],
      "metadata": {
        "colab": {
          "base_uri": "https://localhost:8080/"
        },
        "id": "fmQUpV3FKL6S",
        "outputId": "d703cd88-ad0d-413e-cf99-298422159c9d"
      },
      "execution_count": 9,
      "outputs": [
        {
          "output_type": "stream",
          "name": "stdout",
          "text": [
            "tf.Tensor(\n",
            "[[[0.5921569  0.6039216  0.5686275 ]\n",
            "  [0.5647059  0.5764706  0.5294118 ]\n",
            "  [0.5529412  0.56078434 0.5254902 ]\n",
            "  ...\n",
            "  [0.17254902 0.14901961 0.15294118]\n",
            "  [0.4392157  0.39215687 0.3764706 ]\n",
            "  [0.5686275  0.49803922 0.47058824]]\n",
            "\n",
            " [[0.6        0.6117647  0.5882353 ]\n",
            "  [0.5529412  0.5647059  0.5294118 ]\n",
            "  [0.54509807 0.5568628  0.53333336]\n",
            "  ...\n",
            "  [0.26666668 0.23137255 0.23137255]\n",
            "  [0.5137255  0.44313726 0.41568628]\n",
            "  [0.4745098  0.39607844 0.36862746]]\n",
            "\n",
            " [[0.6392157  0.64705884 0.6313726 ]\n",
            "  [0.5882353  0.6        0.5686275 ]\n",
            "  [0.5764706  0.58431375 0.5647059 ]\n",
            "  ...\n",
            "  [0.29411766 0.25882354 0.23529412]\n",
            "  [0.39607844 0.3372549  0.3019608 ]\n",
            "  [0.3254902  0.3019608  0.28627452]]\n",
            "\n",
            " ...\n",
            "\n",
            " [[0.5882353  0.5882353  0.63529414]\n",
            "  [0.2        0.20392157 0.2627451 ]\n",
            "  [0.18039216 0.16470589 0.21960784]\n",
            "  ...\n",
            "  [0.23529412 0.23137255 0.1882353 ]\n",
            "  [0.2784314  0.28627452 0.21960784]\n",
            "  [0.22745098 0.24313726 0.17254902]]\n",
            "\n",
            " [[0.57254905 0.61960787 0.65882355]\n",
            "  [0.36078432 0.41568628 0.45490196]\n",
            "  [0.28627452 0.3019608  0.33333334]\n",
            "  ...\n",
            "  [0.21176471 0.21568628 0.15686275]\n",
            "  [0.23137255 0.25882354 0.16078432]\n",
            "  [0.20392157 0.21960784 0.10980392]]\n",
            "\n",
            " [[0.36078432 0.37254903 0.4117647 ]\n",
            "  [0.3372549  0.3529412  0.39215687]\n",
            "  [0.3019608  0.2901961  0.32156864]\n",
            "  ...\n",
            "  [0.23137255 0.23921569 0.17254902]\n",
            "  [0.17254902 0.19215687 0.10196079]\n",
            "  [0.2        0.20784314 0.10588235]]], shape=(32, 32, 3), dtype=float32)\n",
            "tf.Tensor(66, shape=(), dtype=int64)\n"
          ]
        }
      ]
    },
    {
      "cell_type": "code",
      "source": [
        "train_ds = train_ds.shuffle(len(train_ds)).batch(128)\n",
        "test_ds = test_ds.shuffle(len(test_ds)).batch(128)"
      ],
      "metadata": {
        "id": "rypnC_WXNi7j"
      },
      "execution_count": 16,
      "outputs": []
    },
    {
      "cell_type": "code",
      "source": [
        "50000//128"
      ],
      "metadata": {
        "colab": {
          "base_uri": "https://localhost:8080/"
        },
        "id": "5h-9rUOxPHe7",
        "outputId": "df6e1465-9bfe-4f5c-a11d-bc3dd45b2f83"
      },
      "execution_count": 18,
      "outputs": [
        {
          "output_type": "execute_result",
          "data": {
            "text/plain": [
              "390"
            ]
          },
          "metadata": {},
          "execution_count": 18
        }
      ]
    },
    {
      "cell_type": "code",
      "source": [
        "50000-390*128"
      ],
      "metadata": {
        "colab": {
          "base_uri": "https://localhost:8080/"
        },
        "id": "GO4S1K5RPJhe",
        "outputId": "516752b1-9ea9-4303-a363-7480ae5d4e61"
      },
      "execution_count": 20,
      "outputs": [
        {
          "output_type": "execute_result",
          "data": {
            "text/plain": [
              "80"
            ]
          },
          "metadata": {},
          "execution_count": 20
        }
      ]
    },
    {
      "cell_type": "code",
      "source": [
        "train_ds"
      ],
      "metadata": {
        "colab": {
          "base_uri": "https://localhost:8080/"
        },
        "id": "QBC6EJVHPC4G",
        "outputId": "88e22fde-d780-498a-ae14-eb8710d40654"
      },
      "execution_count": 17,
      "outputs": [
        {
          "output_type": "execute_result",
          "data": {
            "text/plain": [
              "<_BatchDataset element_spec=(TensorSpec(shape=(None, 32, 32, 3), dtype=tf.uint8, name=None), TensorSpec(shape=(None,), dtype=tf.int64, name=None))>"
            ]
          },
          "metadata": {},
          "execution_count": 17
        }
      ]
    },
    {
      "cell_type": "code",
      "source": [
        "for image, label in train_ds.take(1):\n",
        "    print(image / 255)\n",
        "    print(label)"
      ],
      "metadata": {
        "colab": {
          "base_uri": "https://localhost:8080/"
        },
        "id": "dUgkya__NudH",
        "outputId": "6e4faf4a-3e13-44a9-e16e-7cb0d044ba1f"
      },
      "execution_count": 12,
      "outputs": [
        {
          "output_type": "stream",
          "name": "stdout",
          "text": [
            "tf.Tensor(\n",
            "[[[[0.5921569  0.6039216  0.5686275 ]\n",
            "   [0.5647059  0.5764706  0.5294118 ]\n",
            "   [0.5529412  0.56078434 0.5254902 ]\n",
            "   ...\n",
            "   [0.17254902 0.14901961 0.15294118]\n",
            "   [0.4392157  0.39215687 0.3764706 ]\n",
            "   [0.5686275  0.49803922 0.47058824]]\n",
            "\n",
            "  [[0.6        0.6117647  0.5882353 ]\n",
            "   [0.5529412  0.5647059  0.5294118 ]\n",
            "   [0.54509807 0.5568628  0.53333336]\n",
            "   ...\n",
            "   [0.26666668 0.23137255 0.23137255]\n",
            "   [0.5137255  0.44313726 0.41568628]\n",
            "   [0.4745098  0.39607844 0.36862746]]\n",
            "\n",
            "  [[0.6392157  0.64705884 0.6313726 ]\n",
            "   [0.5882353  0.6        0.5686275 ]\n",
            "   [0.5764706  0.58431375 0.5647059 ]\n",
            "   ...\n",
            "   [0.29411766 0.25882354 0.23529412]\n",
            "   [0.39607844 0.3372549  0.3019608 ]\n",
            "   [0.3254902  0.3019608  0.28627452]]\n",
            "\n",
            "  ...\n",
            "\n",
            "  [[0.5882353  0.5882353  0.63529414]\n",
            "   [0.2        0.20392157 0.2627451 ]\n",
            "   [0.18039216 0.16470589 0.21960784]\n",
            "   ...\n",
            "   [0.23529412 0.23137255 0.1882353 ]\n",
            "   [0.2784314  0.28627452 0.21960784]\n",
            "   [0.22745098 0.24313726 0.17254902]]\n",
            "\n",
            "  [[0.57254905 0.61960787 0.65882355]\n",
            "   [0.36078432 0.41568628 0.45490196]\n",
            "   [0.28627452 0.3019608  0.33333334]\n",
            "   ...\n",
            "   [0.21176471 0.21568628 0.15686275]\n",
            "   [0.23137255 0.25882354 0.16078432]\n",
            "   [0.20392157 0.21960784 0.10980392]]\n",
            "\n",
            "  [[0.36078432 0.37254903 0.4117647 ]\n",
            "   [0.3372549  0.3529412  0.39215687]\n",
            "   [0.3019608  0.2901961  0.32156864]\n",
            "   ...\n",
            "   [0.23137255 0.23921569 0.17254902]\n",
            "   [0.17254902 0.19215687 0.10196079]\n",
            "   [0.2        0.20784314 0.10588235]]]\n",
            "\n",
            "\n",
            " [[[0.98039216 0.98039216 0.98039216]\n",
            "   [0.972549   0.972549   0.972549  ]\n",
            "   [0.9607843  0.9607843  0.9607843 ]\n",
            "   ...\n",
            "   [1.         1.         1.        ]\n",
            "   [1.         1.         1.        ]\n",
            "   [1.         1.         1.        ]]\n",
            "\n",
            "  [[0.9411765  0.9411765  0.9411765 ]\n",
            "   [0.9372549  0.9372549  0.9372549 ]\n",
            "   [0.92941177 0.92941177 0.92941177]\n",
            "   ...\n",
            "   [0.99215686 0.99215686 0.99215686]\n",
            "   [0.99215686 0.99215686 0.99215686]\n",
            "   [0.99215686 0.99215686 0.99215686]]\n",
            "\n",
            "  [[0.9137255  0.9137255  0.9137255 ]\n",
            "   [0.91764706 0.91764706 0.91764706]\n",
            "   [0.9137255  0.9137255  0.9137255 ]\n",
            "   ...\n",
            "   [0.9882353  0.9882353  0.9882353 ]\n",
            "   [0.99215686 0.99215686 0.99215686]\n",
            "   [0.99215686 0.99215686 0.99215686]]\n",
            "\n",
            "  ...\n",
            "\n",
            "  [[0.29803923 0.29803923 0.29803923]\n",
            "   [0.27450982 0.27450982 0.27450982]\n",
            "   [0.3019608  0.3019608  0.3019608 ]\n",
            "   ...\n",
            "   [0.42745098 0.42745098 0.42745098]\n",
            "   [0.5176471  0.5176471  0.5176471 ]\n",
            "   [0.39607844 0.39607844 0.39607844]]\n",
            "\n",
            "  [[0.5568628  0.5568628  0.5568628 ]\n",
            "   [0.5411765  0.5411765  0.5411765 ]\n",
            "   [0.54509807 0.54509807 0.54509807]\n",
            "   ...\n",
            "   [0.27450982 0.27450982 0.27450982]\n",
            "   [0.3529412  0.3529412  0.3529412 ]\n",
            "   [0.25490198 0.25490198 0.25490198]]\n",
            "\n",
            "  [[0.87058824 0.87058824 0.87058824]\n",
            "   [0.83137256 0.83137256 0.83137256]\n",
            "   [0.6745098  0.6745098  0.6745098 ]\n",
            "   ...\n",
            "   [0.14117648 0.14117648 0.14117648]\n",
            "   [0.16078432 0.16078432 0.16078432]\n",
            "   [0.22745098 0.22745098 0.22745098]]]\n",
            "\n",
            "\n",
            " [[[0.00784314 0.02352941 0.00784314]\n",
            "   [0.02352941 0.03137255 0.00784314]\n",
            "   [0.04313726 0.03529412 0.00392157]\n",
            "   ...\n",
            "   [0.0627451  0.0627451  0.0627451 ]\n",
            "   [0.04313726 0.04313726 0.03921569]\n",
            "   [0.03921569 0.03921569 0.03137255]]\n",
            "\n",
            "  [[0.01568628 0.02745098 0.01176471]\n",
            "   [0.02745098 0.03137255 0.01176471]\n",
            "   [0.04705882 0.03921569 0.00784314]\n",
            "   ...\n",
            "   [0.03137255 0.03137255 0.02352941]\n",
            "   [0.03137255 0.03137255 0.01960784]\n",
            "   [0.03529412 0.03137255 0.01568628]]\n",
            "\n",
            "  [[0.02745098 0.00784314 0.00784314]\n",
            "   [0.03137255 0.01176471 0.01176471]\n",
            "   [0.04313726 0.01568628 0.00784314]\n",
            "   ...\n",
            "   [0.03921569 0.04313726 0.03137255]\n",
            "   [0.03921569 0.04313726 0.03137255]\n",
            "   [0.03921569 0.03921569 0.03137255]]\n",
            "\n",
            "  ...\n",
            "\n",
            "  [[0.6156863  0.5294118  0.5803922 ]\n",
            "   [0.6392157  0.5529412  0.6039216 ]\n",
            "   [0.6392157  0.5529412  0.6039216 ]\n",
            "   ...\n",
            "   [0.63529414 0.5568628  0.6       ]\n",
            "   [0.63529414 0.5568628  0.6       ]\n",
            "   [0.61960787 0.54509807 0.5921569 ]]\n",
            "\n",
            "  [[0.6117647  0.5294118  0.5764706 ]\n",
            "   [0.63529414 0.5529412  0.6039216 ]\n",
            "   [0.6431373  0.56078434 0.6117647 ]\n",
            "   ...\n",
            "   [0.6431373  0.56078434 0.60784316]\n",
            "   [0.6392157  0.5568628  0.6       ]\n",
            "   [0.61960787 0.5372549  0.58431375]]\n",
            "\n",
            "  [[0.5803922  0.50980395 0.5568628 ]\n",
            "   [0.60784316 0.5372549  0.58431375]\n",
            "   [0.61960787 0.54509807 0.6039216 ]\n",
            "   ...\n",
            "   [0.63529414 0.5568628  0.6039216 ]\n",
            "   [0.62352943 0.54509807 0.5921569 ]\n",
            "   [0.6039216  0.5254902  0.57254905]]]\n",
            "\n",
            "\n",
            " ...\n",
            "\n",
            "\n",
            " [[[1.         1.         1.        ]\n",
            "   [1.         1.         1.        ]\n",
            "   [1.         1.         1.        ]\n",
            "   ...\n",
            "   [1.         1.         1.        ]\n",
            "   [1.         1.         1.        ]\n",
            "   [1.         1.         1.        ]]\n",
            "\n",
            "  [[1.         1.         1.        ]\n",
            "   [0.9882353  0.9882353  0.9882353 ]\n",
            "   [0.9882353  0.9882353  0.9882353 ]\n",
            "   ...\n",
            "   [0.9882353  0.9882353  0.9882353 ]\n",
            "   [0.9882353  0.9882353  0.9882353 ]\n",
            "   [0.9882353  0.9882353  0.9882353 ]]\n",
            "\n",
            "  [[1.         1.         1.        ]\n",
            "   [0.9882353  0.9882353  0.9882353 ]\n",
            "   [0.99215686 0.99215686 0.99215686]\n",
            "   ...\n",
            "   [0.99215686 0.99215686 0.99215686]\n",
            "   [0.99215686 0.99215686 0.99215686]\n",
            "   [0.99215686 0.99215686 0.99215686]]\n",
            "\n",
            "  ...\n",
            "\n",
            "  [[1.         1.         1.        ]\n",
            "   [0.9882353  0.9882353  0.9882353 ]\n",
            "   [0.99215686 0.99215686 0.99215686]\n",
            "   ...\n",
            "   [0.99215686 0.99215686 0.99215686]\n",
            "   [0.99215686 0.99215686 0.99215686]\n",
            "   [0.99215686 0.99215686 0.99215686]]\n",
            "\n",
            "  [[1.         1.         1.        ]\n",
            "   [0.9882353  0.9882353  0.9882353 ]\n",
            "   [0.99215686 0.99215686 0.99215686]\n",
            "   ...\n",
            "   [0.99215686 0.99215686 0.99215686]\n",
            "   [0.99215686 0.99215686 0.99215686]\n",
            "   [0.99215686 0.99215686 0.99215686]]\n",
            "\n",
            "  [[1.         1.         1.        ]\n",
            "   [0.9882353  0.9882353  0.9882353 ]\n",
            "   [0.99215686 0.99215686 0.99215686]\n",
            "   ...\n",
            "   [0.99215686 0.99215686 0.99215686]\n",
            "   [0.99215686 0.99215686 0.99215686]\n",
            "   [0.99215686 0.99215686 0.99215686]]]\n",
            "\n",
            "\n",
            " [[[0.06666667 0.09019608 0.11372549]\n",
            "   [0.07450981 0.10196079 0.12941177]\n",
            "   [0.06666667 0.09411765 0.13333334]\n",
            "   ...\n",
            "   [0.01960784 0.04313726 0.09019608]\n",
            "   [0.03921569 0.06666667 0.13725491]\n",
            "   [0.05098039 0.07843138 0.14509805]]\n",
            "\n",
            "  [[0.11764706 0.14901961 0.13725491]\n",
            "   [0.14901961 0.1882353  0.16862746]\n",
            "   [0.13333334 0.18431373 0.1764706 ]\n",
            "   ...\n",
            "   [0.0627451  0.07843138 0.1254902 ]\n",
            "   [0.09411765 0.12941177 0.17254902]\n",
            "   [0.11372549 0.15294118 0.1882353 ]]\n",
            "\n",
            "  [[0.14901961 0.1882353  0.14117648]\n",
            "   [0.19215687 0.24705882 0.18039216]\n",
            "   [0.1882353  0.25490198 0.2       ]\n",
            "   ...\n",
            "   [0.30588236 0.3137255  0.2509804 ]\n",
            "   [0.27450982 0.3019608  0.24705882]\n",
            "   [0.21960784 0.24705882 0.21176471]]\n",
            "\n",
            "  ...\n",
            "\n",
            "  [[0.03529412 0.04705882 0.07058824]\n",
            "   [0.04705882 0.07843138 0.08235294]\n",
            "   [0.0627451  0.11372549 0.09803922]\n",
            "   ...\n",
            "   [0.03137255 0.04313726 0.07450981]\n",
            "   [0.02352941 0.03921569 0.07058824]\n",
            "   [0.02352941 0.04313726 0.07450981]]\n",
            "\n",
            "  [[0.02352941 0.03137255 0.0627451 ]\n",
            "   [0.02745098 0.04705882 0.07058824]\n",
            "   [0.03137255 0.07058824 0.07843138]\n",
            "   ...\n",
            "   [0.04705882 0.07450981 0.07058824]\n",
            "   [0.04313726 0.08235294 0.07843138]\n",
            "   [0.04313726 0.08627451 0.07843138]]\n",
            "\n",
            "  [[0.01176471 0.02352941 0.04705882]\n",
            "   [0.01176471 0.02745098 0.04705882]\n",
            "   [0.01960784 0.03529412 0.05490196]\n",
            "   ...\n",
            "   [0.03529412 0.08627451 0.06666667]\n",
            "   [0.03529412 0.10196079 0.07058824]\n",
            "   [0.05490196 0.11764706 0.08627451]]]\n",
            "\n",
            "\n",
            " [[[0.3019608  0.1882353  0.15686275]\n",
            "   [0.28235295 0.19215687 0.18431373]\n",
            "   [0.2901961  0.18431373 0.17254902]\n",
            "   ...\n",
            "   [0.67058825 0.6784314  0.6313726 ]\n",
            "   [0.68235296 0.6901961  0.64705884]\n",
            "   [0.6784314  0.6862745  0.6431373 ]]\n",
            "\n",
            "  [[0.27450982 0.1764706  0.14117648]\n",
            "   [0.24705882 0.17254902 0.14117648]\n",
            "   [0.2627451  0.1764706  0.1254902 ]\n",
            "   ...\n",
            "   [0.6627451  0.67058825 0.62352943]\n",
            "   [0.67058825 0.6784314  0.63529414]\n",
            "   [0.67058825 0.6784314  0.63529414]]\n",
            "\n",
            "  [[0.33333334 0.21568628 0.14117648]\n",
            "   [0.3647059  0.28235295 0.15294118]\n",
            "   [0.49019608 0.4        0.2       ]\n",
            "   ...\n",
            "   [0.65882355 0.6666667  0.61960787]\n",
            "   [0.6627451  0.67058825 0.627451  ]\n",
            "   [0.6627451  0.67058825 0.627451  ]]\n",
            "\n",
            "  ...\n",
            "\n",
            "  [[0.84313726 0.7607843  0.5803922 ]\n",
            "   [0.8156863  0.74509805 0.43137255]\n",
            "   [0.8117647  0.7647059  0.4862745 ]\n",
            "   ...\n",
            "   [0.3647059  0.24313726 0.20392157]\n",
            "   [0.3372549  0.21960784 0.1764706 ]\n",
            "   [0.31764707 0.2        0.15294118]]\n",
            "\n",
            "  [[0.8352941  0.7921569  0.62352943]\n",
            "   [0.8117647  0.77254903 0.5294118 ]\n",
            "   [0.7921569  0.77254903 0.52156866]\n",
            "   ...\n",
            "   [0.3137255  0.20392157 0.16470589]\n",
            "   [0.30588236 0.19607843 0.15686275]\n",
            "   [0.30588236 0.19607843 0.15294118]]\n",
            "\n",
            "  [[0.8156863  0.78431374 0.5921569 ]\n",
            "   [0.8117647  0.7882353  0.6039216 ]\n",
            "   [0.8        0.76862746 0.5254902 ]\n",
            "   ...\n",
            "   [0.2901961  0.19215687 0.14901961]\n",
            "   [0.29803923 0.2        0.15294118]\n",
            "   [0.2901961  0.19215687 0.14509805]]]], shape=(128, 32, 32, 3), dtype=float32)\n",
            "tf.Tensor(\n",
            "[66 23 40 39  7 15 11 44 76 50 57 69  1 26 30 42 61 65 18 99  5 24 55 96\n",
            "  8 72 50 83 24  9 88 84 65  2 66 41 53 93 68 66 67 37 99 26 69 57 13  6\n",
            " 62 31 76  8 83 19 98 58 30 45 61 72  1 63 82 62 66 29 17 27 38 82 87 38\n",
            " 71 86 80 90 73 52 62 85 27 13  6 73 98 20  6 49 91 19 22 84 92 36 12 75\n",
            " 59 86 89 91 90 51 63 33  5 45 44 65 90 72 61 68 64 62 58 50 88 93 17 40\n",
            " 56 32 49 13 34 28 62 83], shape=(128,), dtype=int64)\n"
          ]
        }
      ]
    },
    {
      "cell_type": "code",
      "source": [
        "def normalize_images(image, label):\n",
        "    # Sadece TF fonksiyon ve metotları kullanılmalı.\n",
        "    # tf.numpy_function -- hariç --\n",
        "    \n",
        "    # Resimleri normalize et ve float32'ye\n",
        "    # cast et.\n",
        "    image = tf.cast(image / 255, tf.float32)\n",
        "\n",
        "    label = tf.one_hot(label, depth=100)\n",
        "\n",
        "    return image, label\n",
        "\n",
        "# shuffle -> batch -> map -> prefetch\n",
        "train_ds = train_ds.map(normalize_images).prefetch(tf.data.AUTOTUNE)\n",
        "test_ds = test_ds.map(normalize_images).prefetch(tf.data.AUTOTUNE)"
      ],
      "metadata": {
        "id": "1qj215QKKL3i"
      },
      "execution_count": 21,
      "outputs": []
    },
    {
      "cell_type": "markdown",
      "source": [
        "## ANN Modeli"
      ],
      "metadata": {
        "id": "_98vo3eEeZlO"
      }
    },
    {
      "cell_type": "code",
      "source": [
        "# Kerasta 3 tür API bulunur (model oluşturmak için):\n",
        "# -> Sequential\n",
        "# -> Functional API\n",
        "# -> Subclassing \n",
        "\n",
        "# Datasetin içerisinde resimler - labellar var\n",
        "# Resimler --> (None, 32, 32, 3)\n",
        "# Labellar --> (None, 100)\n",
        "\n",
        "ann_model = tf.keras.Sequential([\n",
        "    tf.keras.layers.InputLayer((32, 32, 3)),\n",
        "    \n",
        "    tf.keras.layers.Flatten(),\n",
        "\n",
        "    tf.keras.layers.Dense(128, activation=\"relu\"),\n",
        "\n",
        "    # multi-class classification için --> softmax\n",
        "    tf.keras.layers.Dense(100, activation=\"softmax\")\n",
        "])\n",
        "\n",
        "ann_model.summary()"
      ],
      "metadata": {
        "colab": {
          "base_uri": "https://localhost:8080/"
        },
        "id": "kRQrM5umffpZ",
        "outputId": "5e45c518-6d19-4239-baaa-f31dc8ba18c7"
      },
      "execution_count": 26,
      "outputs": [
        {
          "output_type": "stream",
          "name": "stdout",
          "text": [
            "Model: \"sequential_2\"\n",
            "_________________________________________________________________\n",
            " Layer (type)                Output Shape              Param #   \n",
            "=================================================================\n",
            " flatten (Flatten)           (None, 3072)              0         \n",
            "                                                                 \n",
            " dense_4 (Dense)             (None, 128)               393344    \n",
            "                                                                 \n",
            " dense_5 (Dense)             (None, 100)               12900     \n",
            "                                                                 \n",
            "=================================================================\n",
            "Total params: 406,244\n",
            "Trainable params: 406,244\n",
            "Non-trainable params: 0\n",
            "_________________________________________________________________\n"
          ]
        }
      ]
    },
    {
      "cell_type": "code",
      "source": [
        "ann_model.compile(optimizer=\"adam\", loss=\"categorical_crossentropy\",\n",
        "                  metrics = [\"acc\"])"
      ],
      "metadata": {
        "id": "eme5QgosSDEA"
      },
      "execution_count": 28,
      "outputs": []
    },
    {
      "cell_type": "code",
      "source": [
        "ann_model.fit(train_ds, epochs=10)"
      ],
      "metadata": {
        "colab": {
          "base_uri": "https://localhost:8080/"
        },
        "id": "38qq0BLGTBAl",
        "outputId": "c3a03c5e-d14f-43ef-ecd3-85a55b675ed8"
      },
      "execution_count": 29,
      "outputs": [
        {
          "output_type": "stream",
          "name": "stdout",
          "text": [
            "Epoch 1/10\n",
            "391/391 [==============================] - 7s 3ms/step - loss: 4.3764 - acc: 0.0382\n",
            "Epoch 2/10\n",
            "391/391 [==============================] - 2s 3ms/step - loss: 4.0174 - acc: 0.0804\n",
            "Epoch 3/10\n",
            "391/391 [==============================] - 2s 3ms/step - loss: 3.9142 - acc: 0.0968\n",
            "Epoch 4/10\n",
            "391/391 [==============================] - 2s 3ms/step - loss: 3.8536 - acc: 0.1102\n",
            "Epoch 5/10\n",
            "391/391 [==============================] - 2s 3ms/step - loss: 3.8176 - acc: 0.1149\n",
            "Epoch 6/10\n",
            "391/391 [==============================] - 2s 3ms/step - loss: 3.7880 - acc: 0.1198\n",
            "Epoch 7/10\n",
            "391/391 [==============================] - 2s 3ms/step - loss: 3.7574 - acc: 0.1260\n",
            "Epoch 8/10\n",
            "391/391 [==============================] - 2s 3ms/step - loss: 3.7428 - acc: 0.1308\n",
            "Epoch 9/10\n",
            "391/391 [==============================] - 2s 3ms/step - loss: 3.7252 - acc: 0.1329\n",
            "Epoch 10/10\n",
            "391/391 [==============================] - 2s 3ms/step - loss: 3.7074 - acc: 0.1366\n"
          ]
        },
        {
          "output_type": "execute_result",
          "data": {
            "text/plain": [
              "<keras.callbacks.History at 0x7f098829cdc0>"
            ]
          },
          "metadata": {},
          "execution_count": 29
        }
      ]
    },
    {
      "cell_type": "code",
      "source": [
        "ann_model.evaluate(test_ds)"
      ],
      "metadata": {
        "colab": {
          "base_uri": "https://localhost:8080/"
        },
        "id": "dwADsyUDTVzC",
        "outputId": "173fa8f6-b590-49b2-b540-0bd340c58804"
      },
      "execution_count": 30,
      "outputs": [
        {
          "output_type": "stream",
          "name": "stdout",
          "text": [
            "79/79 [==============================] - 1s 3ms/step - loss: 3.7258 - acc: 0.1390\n"
          ]
        },
        {
          "output_type": "execute_result",
          "data": {
            "text/plain": [
              "[3.7257816791534424, 0.13899999856948853]"
            ]
          },
          "metadata": {},
          "execution_count": 30
        }
      ]
    },
    {
      "cell_type": "markdown",
      "source": [
        "## CNN Modeli\n",
        "![image.png](data:image/png;base64,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)\n",
        "\n"
      ],
      "metadata": {
        "id": "KXbInU6CeZid"
      }
    },
    {
      "cell_type": "markdown",
      "source": [
        "Source: https://developer.nvidia.com/discover/convolution"
      ],
      "metadata": {
        "id": "hvJrBywV8M9m"
      }
    },
    {
      "cell_type": "code",
      "source": [
        "cnn_model = tf.keras.Sequential([\n",
        "    tf.keras.layers.InputLayer((32, 32, 3)),\n",
        "\n",
        "    tf.keras.layers.Conv2D(filters=32, kernel_size=(3,3)),\n",
        "    tf.keras.layers.MaxPooling2D((2,2)),\n",
        "\n",
        "    tf.keras.layers.Conv2D(filters=64, kernel_size=(3,3)),\n",
        "    tf.keras.layers.MaxPooling2D((2,2)),\n",
        "\n",
        "    tf.keras.layers.GlobalAveragePooling2D(),\n",
        "\n",
        "    tf.keras.layers.Dense(100, activation=\"softmax\")\n",
        "\n",
        "])\n",
        "\n",
        "cnn_model.summary()"
      ],
      "metadata": {
        "colab": {
          "base_uri": "https://localhost:8080/"
        },
        "id": "NzgkBgFdff9c",
        "outputId": "0ae5ccf9-8b9e-4306-d89d-38755c6212fe"
      },
      "execution_count": 31,
      "outputs": [
        {
          "output_type": "stream",
          "name": "stdout",
          "text": [
            "Model: \"sequential_3\"\n",
            "_________________________________________________________________\n",
            " Layer (type)                Output Shape              Param #   \n",
            "=================================================================\n",
            " conv2d (Conv2D)             (None, 30, 30, 32)        896       \n",
            "                                                                 \n",
            " max_pooling2d (MaxPooling2D  (None, 15, 15, 32)       0         \n",
            " )                                                               \n",
            "                                                                 \n",
            " conv2d_1 (Conv2D)           (None, 13, 13, 64)        18496     \n",
            "                                                                 \n",
            " max_pooling2d_1 (MaxPooling  (None, 6, 6, 64)         0         \n",
            " 2D)                                                             \n",
            "                                                                 \n",
            " global_average_pooling2d (G  (None, 64)               0         \n",
            " lobalAveragePooling2D)                                          \n",
            "                                                                 \n",
            " dense_6 (Dense)             (None, 100)               6500      \n",
            "                                                                 \n",
            "=================================================================\n",
            "Total params: 25,892\n",
            "Trainable params: 25,892\n",
            "Non-trainable params: 0\n",
            "_________________________________________________________________\n"
          ]
        }
      ]
    },
    {
      "cell_type": "code",
      "source": [
        "6 * 6 * 64"
      ],
      "metadata": {
        "colab": {
          "base_uri": "https://localhost:8080/"
        },
        "id": "qZd67y0-Ukfx",
        "outputId": "4bfaa74c-740a-463e-e05d-c87e11012209"
      },
      "execution_count": 33,
      "outputs": [
        {
          "output_type": "execute_result",
          "data": {
            "text/plain": [
              "2304"
            ]
          },
          "metadata": {},
          "execution_count": 33
        }
      ]
    },
    {
      "cell_type": "code",
      "source": [
        "cnn_model.compile(optimizer=\"adam\", \n",
        "                  loss=\"categorical_crossentropy\",\n",
        "                  metrics = [\"acc\"])\n",
        "\n",
        "cnn_model.fit(train_ds, epochs=20)"
      ],
      "metadata": {
        "colab": {
          "base_uri": "https://localhost:8080/"
        },
        "id": "BFn1gUj2UODe",
        "outputId": "28ee36e8-86a6-4f7b-faaf-75d2a55e1228"
      },
      "execution_count": 32,
      "outputs": [
        {
          "output_type": "stream",
          "name": "stdout",
          "text": [
            "Epoch 1/20\n",
            "391/391 [==============================] - 8s 4ms/step - loss: 4.2820 - acc: 0.0486\n",
            "Epoch 2/20\n",
            "391/391 [==============================] - 2s 4ms/step - loss: 4.0171 - acc: 0.0940\n",
            "Epoch 3/20\n",
            "391/391 [==============================] - 2s 4ms/step - loss: 3.8688 - acc: 0.1181\n",
            "Epoch 4/20\n",
            "391/391 [==============================] - 2s 4ms/step - loss: 3.7938 - acc: 0.1296\n",
            "Epoch 5/20\n",
            "391/391 [==============================] - 2s 4ms/step - loss: 3.7223 - acc: 0.1434\n",
            "Epoch 6/20\n",
            "391/391 [==============================] - 2s 4ms/step - loss: 3.6609 - acc: 0.1548\n",
            "Epoch 7/20\n",
            "391/391 [==============================] - 2s 4ms/step - loss: 3.5939 - acc: 0.1676\n",
            "Epoch 8/20\n",
            "391/391 [==============================] - 2s 4ms/step - loss: 3.5386 - acc: 0.1760\n",
            "Epoch 9/20\n",
            "391/391 [==============================] - 2s 4ms/step - loss: 3.4867 - acc: 0.1858\n",
            "Epoch 10/20\n",
            "391/391 [==============================] - 2s 4ms/step - loss: 3.4412 - acc: 0.1923\n",
            "Epoch 11/20\n",
            "391/391 [==============================] - 2s 4ms/step - loss: 3.4066 - acc: 0.1999\n",
            "Epoch 12/20\n",
            "391/391 [==============================] - 2s 4ms/step - loss: 3.3728 - acc: 0.2051\n",
            "Epoch 13/20\n",
            "391/391 [==============================] - 2s 4ms/step - loss: 3.3461 - acc: 0.2101\n",
            "Epoch 14/20\n",
            "391/391 [==============================] - 2s 4ms/step - loss: 3.3220 - acc: 0.2136\n",
            "Epoch 15/20\n",
            "391/391 [==============================] - 2s 4ms/step - loss: 3.2975 - acc: 0.2196\n",
            "Epoch 16/20\n",
            "391/391 [==============================] - 2s 4ms/step - loss: 3.2740 - acc: 0.2225\n",
            "Epoch 17/20\n",
            "391/391 [==============================] - 2s 4ms/step - loss: 3.2574 - acc: 0.2262\n",
            "Epoch 18/20\n",
            "391/391 [==============================] - 2s 4ms/step - loss: 3.2408 - acc: 0.2298\n",
            "Epoch 19/20\n",
            "391/391 [==============================] - 2s 4ms/step - loss: 3.2261 - acc: 0.2325\n",
            "Epoch 20/20\n",
            "391/391 [==============================] - 2s 4ms/step - loss: 3.2049 - acc: 0.2362\n"
          ]
        },
        {
          "output_type": "execute_result",
          "data": {
            "text/plain": [
              "<keras.callbacks.History at 0x7f0988306b90>"
            ]
          },
          "metadata": {},
          "execution_count": 32
        }
      ]
    },
    {
      "cell_type": "code",
      "source": [
        "cnn_model.evaluate(test_ds)"
      ],
      "metadata": {
        "colab": {
          "base_uri": "https://localhost:8080/"
        },
        "id": "rDV9d3gyVDGM",
        "outputId": "75c04848-61f8-42fa-9c55-4ae1f2641940"
      },
      "execution_count": 34,
      "outputs": [
        {
          "output_type": "stream",
          "name": "stdout",
          "text": [
            "79/79 [==============================] - 0s 3ms/step - loss: 3.2380 - acc: 0.2320\n"
          ]
        },
        {
          "output_type": "execute_result",
          "data": {
            "text/plain": [
              "[3.2380197048187256, 0.23199999332427979]"
            ]
          },
          "metadata": {},
          "execution_count": 34
        }
      ]
    },
    {
      "cell_type": "markdown",
      "source": [
        "## Data Augmentation Layerları"
      ],
      "metadata": {
        "id": "EMQn0-vXeZfO"
      }
    },
    {
      "cell_type": "code",
      "source": [
        "import matplotlib.pyplot as plt"
      ],
      "metadata": {
        "id": "QCglMA18VoCs"
      },
      "execution_count": 35,
      "outputs": []
    },
    {
      "cell_type": "code",
      "source": [
        "for images, labels in train_ds.take(1):\n",
        "    print(images.shape)\n",
        "    first_image = images[0]"
      ],
      "metadata": {
        "colab": {
          "base_uri": "https://localhost:8080/"
        },
        "id": "SSorkn0sVr1W",
        "outputId": "e3391888-4b3d-4cee-b9a1-70d246e06755"
      },
      "execution_count": 41,
      "outputs": [
        {
          "output_type": "stream",
          "name": "stdout",
          "text": [
            "(128, 32, 32, 3)\n"
          ]
        }
      ]
    },
    {
      "cell_type": "code",
      "source": [
        "plt.imshow(first_image)"
      ],
      "metadata": {
        "colab": {
          "base_uri": "https://localhost:8080/",
          "height": 447
        },
        "id": "d5yEAaooV2Ls",
        "outputId": "92f1fee0-7920-45cd-aaf6-5a99b66c5ab3"
      },
      "execution_count": 42,
      "outputs": [
        {
          "output_type": "execute_result",
          "data": {
            "text/plain": [
              "<matplotlib.image.AxesImage at 0x7f0983fdb7c0>"
            ]
          },
          "metadata": {},
          "execution_count": 42
        },
        {
          "output_type": "display_data",
          "data": {
            "text/plain": [
              "<Figure size 640x480 with 1 Axes>"
            ],
            "image/png": "[encoded data removed]"
          },
          "metadata": {}
        }
      ]
    },
    {
      "cell_type": "code",
      "source": [
        "transformed_image = tf.keras.layers.RandomZoom(\n",
        "                            height_factor=1, \n",
        "                            width_factor=1)(first_image)"
      ],
      "metadata": {
        "id": "kF5XnsqpfgQw"
      },
      "execution_count": 57,
      "outputs": []
    },
    {
      "cell_type": "code",
      "source": [
        "plt.imshow(transformed_image)"
      ],
      "metadata": {
        "colab": {
          "base_uri": "https://localhost:8080/",
          "height": 447
        },
        "id": "H--FLGrhWW0M",
        "outputId": "c6298eb9-a708-43b0-8955-2a9813c81468"
      },
      "execution_count": 58,
      "outputs": [
        {
          "output_type": "execute_result",
          "data": {
            "text/plain": [
              "<matplotlib.image.AxesImage at 0x7f09835631c0>"
            ]
          },
          "metadata": {},
          "execution_count": 58
        },
        {
          "output_type": "display_data",
          "data": {
            "text/plain": [
              "<Figure size 640x480 with 1 Axes>"
            ],
            "image/png": "[encoded data removed]"
          },
          "metadata": {}
        }
      ]
    },
    {
      "cell_type": "code",
      "source": [
        "data_augmentation_layers = tf.keras.Sequential([\n",
        "    tf.keras.layers.RandomZoom(0.5, 0.2),\n",
        "    tf.keras.layers.RandomBrightness(factor = .25),\n",
        "])"
      ],
      "metadata": {
        "id": "b5vOAmJIWWxY"
      },
      "execution_count": 52,
      "outputs": []
    },
    {
      "cell_type": "code",
      "source": [],
      "metadata": {
        "id": "Wsbb-OLWXADn"
      },
      "execution_count": null,
      "outputs": []
    },
    {
      "cell_type": "markdown",
      "source": [
        "## CNN + Data Augmentation"
      ],
      "metadata": {
        "id": "UCfzG2EqeZb8"
      }
    },
    {
      "cell_type": "code",
      "source": [
        "cnn_model_augment = tf.keras.Sequential([\n",
        "    tf.keras.layers.InputLayer((32, 32, 3)),\n",
        "    \n",
        "    data_augmentation_layers,\n",
        "    \n",
        "    tf.keras.layers.Conv2D(filters=32, kernel_size=(3,3)),\n",
        "    tf.keras.layers.MaxPooling2D((2,2)),\n",
        "\n",
        "    tf.keras.layers.Conv2D(filters=64, kernel_size=(3,3)),\n",
        "    tf.keras.layers.MaxPooling2D((2,2)),\n",
        "\n",
        "    tf.keras.layers.GlobalAveragePooling2D(),\n",
        "\n",
        "    tf.keras.layers.Dense(100, activation=\"softmax\")\n",
        "\n",
        "])\n",
        "\n",
        "cnn_model_augment.summary()"
      ],
      "metadata": {
        "colab": {
          "base_uri": "https://localhost:8080/"
        },
        "id": "3vLrFXknfeVT",
        "outputId": "4de83a2e-3a6c-4110-ff0b-c56ba24dc4a9"
      },
      "execution_count": 59,
      "outputs": [
        {
          "output_type": "stream",
          "name": "stdout",
          "text": [
            "Model: \"sequential_5\"\n",
            "_________________________________________________________________\n",
            " Layer (type)                Output Shape              Param #   \n",
            "=================================================================\n",
            " sequential_4 (Sequential)   (None, 32, 32, 3)         0         \n",
            "                                                                 \n",
            " conv2d_2 (Conv2D)           (None, 30, 30, 32)        896       \n",
            "                                                                 \n",
            " max_pooling2d_2 (MaxPooling  (None, 15, 15, 32)       0         \n",
            " 2D)                                                             \n",
            "                                                                 \n",
            " conv2d_3 (Conv2D)           (None, 13, 13, 64)        18496     \n",
            "                                                                 \n",
            " max_pooling2d_3 (MaxPooling  (None, 6, 6, 64)         0         \n",
            " 2D)                                                             \n",
            "                                                                 \n",
            " global_average_pooling2d_1   (None, 64)               0         \n",
            " (GlobalAveragePooling2D)                                        \n",
            "                                                                 \n",
            " dense_7 (Dense)             (None, 100)               6500      \n",
            "                                                                 \n",
            "=================================================================\n",
            "Total params: 25,892\n",
            "Trainable params: 25,892\n",
            "Non-trainable params: 0\n",
            "_________________________________________________________________\n"
          ]
        }
      ]
    },
    {
      "cell_type": "code",
      "source": [
        "cnn_model_augment.compile(optimizer=\"adam\", \n",
        "                  loss=\"categorical_crossentropy\",\n",
        "                  metrics = [\"acc\"])\n",
        "\n",
        "cnn_model_augment.fit(train_ds, epochs=35)"
      ],
      "metadata": {
        "colab": {
          "base_uri": "https://localhost:8080/"
        },
        "id": "0NABDhSKXund",
        "outputId": "f2431274-e534-4ccf-9b89-4663c76f64fa"
      },
      "execution_count": 60,
      "outputs": [
        {
          "output_type": "stream",
          "name": "stdout",
          "text": [
            "Epoch 1/35\n",
            "391/391 [==============================] - 4s 5ms/step - loss: 4.8552 - acc: 0.0091\n",
            "Epoch 2/35\n",
            "391/391 [==============================] - 2s 5ms/step - loss: 4.6305 - acc: 0.0094\n",
            "Epoch 3/35\n",
            "391/391 [==============================] - 2s 5ms/step - loss: 4.6218 - acc: 0.0111\n",
            "Epoch 4/35\n",
            "391/391 [==============================] - 2s 5ms/step - loss: 4.6145 - acc: 0.0119\n",
            "Epoch 5/35\n",
            "391/391 [==============================] - 2s 5ms/step - loss: 4.6120 - acc: 0.0115\n",
            "Epoch 6/35\n",
            "391/391 [==============================] - 2s 5ms/step - loss: 4.6101 - acc: 0.0111\n",
            "Epoch 7/35\n",
            "391/391 [==============================] - 2s 5ms/step - loss: 4.6067 - acc: 0.0127\n",
            "Epoch 8/35\n",
            "391/391 [==============================] - 2s 5ms/step - loss: 4.6041 - acc: 0.0128\n",
            "Epoch 9/35\n",
            "391/391 [==============================] - 2s 4ms/step - loss: 4.6014 - acc: 0.0133\n",
            "Epoch 10/35\n",
            "391/391 [==============================] - 2s 4ms/step - loss: 4.6023 - acc: 0.0139\n",
            "Epoch 11/35\n",
            "391/391 [==============================] - 2s 5ms/step - loss: 4.6022 - acc: 0.0137\n",
            "Epoch 12/35\n",
            "391/391 [==============================] - 2s 5ms/step - loss: 4.5913 - acc: 0.0146\n",
            "Epoch 13/35\n",
            "391/391 [==============================] - 2s 5ms/step - loss: 4.5845 - acc: 0.0146\n",
            "Epoch 14/35\n",
            "391/391 [==============================] - 2s 5ms/step - loss: 4.5853 - acc: 0.0144\n",
            "Epoch 15/35\n",
            "391/391 [==============================] - 2s 5ms/step - loss: 4.5757 - acc: 0.0155\n",
            "Epoch 16/35\n",
            "391/391 [==============================] - 2s 5ms/step - loss: 4.5715 - acc: 0.0158\n",
            "Epoch 17/35\n",
            "391/391 [==============================] - 2s 5ms/step - loss: 4.5622 - acc: 0.0165\n",
            "Epoch 18/35\n",
            "391/391 [==============================] - 2s 4ms/step - loss: 4.5464 - acc: 0.0174\n",
            "Epoch 19/35\n",
            "391/391 [==============================] - 2s 4ms/step - loss: 4.5518 - acc: 0.0173\n",
            "Epoch 20/35\n",
            "391/391 [==============================] - 2s 4ms/step - loss: 4.5544 - acc: 0.0168\n",
            "Epoch 21/35\n",
            "391/391 [==============================] - 2s 5ms/step - loss: 4.5318 - acc: 0.0176\n",
            "Epoch 22/35\n",
            "391/391 [==============================] - 2s 5ms/step - loss: 4.5249 - acc: 0.0188\n",
            "Epoch 23/35\n",
            "391/391 [==============================] - 2s 5ms/step - loss: 4.5148 - acc: 0.0204\n",
            "Epoch 24/35\n",
            "391/391 [==============================] - 2s 5ms/step - loss: 4.5163 - acc: 0.0204\n",
            "Epoch 25/35\n",
            "391/391 [==============================] - 2s 5ms/step - loss: 4.5062 - acc: 0.0213\n",
            "Epoch 26/35\n",
            "391/391 [==============================] - 2s 4ms/step - loss: 4.5132 - acc: 0.0215\n",
            "Epoch 27/35\n",
            "391/391 [==============================] - 2s 5ms/step - loss: 4.5020 - acc: 0.0227\n",
            "Epoch 28/35\n",
            "391/391 [==============================] - 2s 4ms/step - loss: 4.4904 - acc: 0.0230\n",
            "Epoch 29/35\n",
            "391/391 [==============================] - 2s 5ms/step - loss: 4.4845 - acc: 0.0239\n",
            "Epoch 30/35\n",
            "391/391 [==============================] - 2s 5ms/step - loss: 4.4749 - acc: 0.0252\n",
            "Epoch 31/35\n",
            "391/391 [==============================] - 2s 5ms/step - loss: 4.4725 - acc: 0.0262\n",
            "Epoch 32/35\n",
            "391/391 [==============================] - 2s 5ms/step - loss: 4.4700 - acc: 0.0274\n",
            "Epoch 33/35\n",
            "391/391 [==============================] - 2s 5ms/step - loss: 4.4601 - acc: 0.0286\n",
            "Epoch 34/35\n",
            "391/391 [==============================] - 2s 5ms/step - loss: 4.4496 - acc: 0.0292\n",
            "Epoch 35/35\n",
            "391/391 [==============================] - 2s 4ms/step - loss: 4.4493 - acc: 0.0291\n"
          ]
        },
        {
          "output_type": "execute_result",
          "data": {
            "text/plain": [
              "<keras.callbacks.History at 0x7f09835d7c70>"
            ]
          },
          "metadata": {},
          "execution_count": 60
        }
      ]
    },
    {
      "cell_type": "code",
      "source": [],
      "metadata": {
        "id": "6lrjHIlJX4RP"
      },
      "execution_count": null,
      "outputs": []
    },
    {
      "cell_type": "code",
      "source": [],
      "metadata": {
        "id": "RpYKEcS8X3Jw"
      },
      "execution_count": null,
      "outputs": []
    },
    {
      "cell_type": "code",
      "source": [],
      "metadata": {
        "id": "RbzOJmXxX3GM"
      },
      "execution_count": null,
      "outputs": []
    },
    {
      "cell_type": "code",
      "source": [],
      "metadata": {
        "id": "mqA7wVarX3DA"
      },
      "execution_count": null,
      "outputs": []
    },
    {
      "cell_type": "code",
      "source": [],
      "metadata": {
        "id": "lmDxWFMaX2_y"
      },
      "execution_count": null,
      "outputs": []
    }
  ]
}