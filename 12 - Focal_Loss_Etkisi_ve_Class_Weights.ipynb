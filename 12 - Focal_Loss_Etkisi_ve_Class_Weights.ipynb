{
  "nbformat": 4,
  "nbformat_minor": 0,
  "metadata": {
    "colab": {
      "provenance": []
    },
    "kernelspec": {
      "name": "python3",
      "display_name": "Python 3"
    },
    "language_info": {
      "name": "python"
    },
    "accelerator": "GPU",
    "gpuClass": "premium"
  },
  "cells": [
    {
      "cell_type": "markdown",
      "source": [
        "## Kütüphaneler"
      ],
      "metadata": {
        "id": "zAlsyHZ8kQqD"
      }
    },
    {
      "cell_type": "code",
      "source": [
        "import tensorflow as tf\n",
        "\n",
        "import numpy as np\n",
        "\n",
        "from sklearn.datasets import make_classification\n",
        "from sklearn.model_selection import train_test_split\n",
        "from sklearn.metrics import classification_report, confusion_matrix\n",
        "from sklearn.utils.class_weight import compute_class_weight\n",
        "\n",
        "import matplotlib.pyplot as plt\n",
        "\n",
        "tf.__version__"
      ],
      "metadata": {
        "colab": {
          "base_uri": "https://localhost:8080/",
          "height": 35
        },
        "id": "FGI27fjSUfjP",
        "outputId": "6c5830ba-92bc-4a32-9b96-3d9f22fa196e"
      },
      "execution_count": null,
      "outputs": [
        {
          "output_type": "execute_result",
          "data": {
            "text/plain": [
              "'2.11.0'"
            ],
            "application/vnd.google.colaboratory.intrinsic+json": {
              "type": "string"
            }
          },
          "metadata": {},
          "execution_count": 1
        }
      ]
    },
    {
      "cell_type": "markdown",
      "source": [
        "## Yapay Veri Oluşturma"
      ],
      "metadata": {
        "id": "WNJfetLikSbf"
      }
    },
    {
      "cell_type": "code",
      "source": [
        "X, y = make_classification(n_samples=100000,\n",
        "                           n_features=10,\n",
        "                           n_classes=2,\n",
        "                           weights=[0.99, 0.01],\n",
        "                           n_redundant=0)\n",
        "\n",
        "unique, counts = np.unique(y, return_counts=True)\n",
        "\n",
        "plt.figure(figsize = (10, 7))\n",
        "plt.bar(unique, counts)\n",
        "\n",
        "plt.xticks(unique, fontsize = 16)\n",
        "plt.yticks(fontsize = 16)\n",
        "plt.title(\"Sınıf Dağılımı\", fontsize = 18)\n",
        "\n",
        "plt.show()"
      ],
      "metadata": {
        "colab": {
          "base_uri": "https://localhost:8080/",
          "height": 453
        },
        "id": "5hFxzQwgUfhI",
        "outputId": "60bf3b8c-4cc7-41cc-af79-1c1319e4030d"
      },
      "execution_count": null,
      "outputs": [
        {
          "output_type": "display_data",
          "data": {
            "text/plain": [
              "<Figure size 720x504 with 1 Axes>"
            ],
            "image/png": "[encoded data removed]"
          },
          "metadata": {
            "needs_background": "light"
          }
        }
      ]
    },
    {
      "cell_type": "code",
      "source": [
        "X_train, X_test, y_train, y_test = train_test_split(X, y, \n",
        "                                                    train_size=0.8, \n",
        "                                                    stratify=y,\n",
        "                                                    random_state=42)"
      ],
      "metadata": {
        "id": "XtT3ZbboiIwc"
      },
      "execution_count": null,
      "outputs": []
    },
    {
      "cell_type": "code",
      "source": [
        "class_weights = compute_class_weight(class_weight=\"balanced\",\n",
        "                                     classes=np.unique(y_train),\n",
        "                                     y=y_train)\n",
        "class_weights = dict(enumerate(class_weights))\n",
        "class_weights"
      ],
      "metadata": {
        "colab": {
          "base_uri": "https://localhost:8080/"
        },
        "id": "nwL37N7wUfed",
        "outputId": "485fc3db-4622-43d5-85dd-1320fa9b8750"
      },
      "execution_count": null,
      "outputs": [
        {
          "output_type": "execute_result",
          "data": {
            "text/plain": [
              "{0: 0.5075755653122859, 1: 33.50083752093802}"
            ]
          },
          "metadata": {},
          "execution_count": 4
        }
      ]
    },
    {
      "cell_type": "markdown",
      "source": [
        "## Modeller"
      ],
      "metadata": {
        "id": "6bJkmYlRloYX"
      }
    },
    {
      "cell_type": "code",
      "source": [
        "input_layer = tf.keras.Input(shape = (10, ))\n",
        "\n",
        "x = tf.keras.layers.Dense(64)(input_layer)\n",
        "x = tf.nn.relu(x)\n",
        "\n",
        "x = tf.keras.layers.Dense(32)(x)\n",
        "x = tf.nn.relu(x)\n",
        "\n",
        "x = tf.keras.layers.Dropout(0.3)(x)\n",
        "\n",
        "x = tf.keras.layers.Dense(1)(x)\n",
        "x = tf.keras.layers.Activation(\"sigmoid\")(x)\n",
        "\n",
        "baseline_model = tf.keras.Model(input_layer, x)\n",
        "baseline_model.summary()"
      ],
      "metadata": {
        "colab": {
          "base_uri": "https://localhost:8080/"
        },
        "id": "_KLwokBaUfcE",
        "outputId": "63d9efcc-b368-48f5-bb12-1ceae806e733"
      },
      "execution_count": null,
      "outputs": [
        {
          "output_type": "stream",
          "name": "stdout",
          "text": [
            "Model: \"model\"\n",
            "_________________________________________________________________\n",
            " Layer (type)                Output Shape              Param #   \n",
            "=================================================================\n",
            " input_1 (InputLayer)        [(None, 10)]              0         \n",
            "                                                                 \n",
            " dense (Dense)               (None, 64)                704       \n",
            "                                                                 \n",
            " tf.nn.relu (TFOpLambda)     (None, 64)                0         \n",
            "                                                                 \n",
            " dense_1 (Dense)             (None, 32)                2080      \n",
            "                                                                 \n",
            " tf.nn.relu_1 (TFOpLambda)   (None, 32)                0         \n",
            "                                                                 \n",
            " dropout (Dropout)           (None, 32)                0         \n",
            "                                                                 \n",
            " dense_2 (Dense)             (None, 1)                 33        \n",
            "                                                                 \n",
            " activation (Activation)     (None, 1)                 0         \n",
            "                                                                 \n",
            "=================================================================\n",
            "Total params: 2,817\n",
            "Trainable params: 2,817\n",
            "Non-trainable params: 0\n",
            "_________________________________________________________________\n"
          ]
        }
      ]
    },
    {
      "cell_type": "code",
      "source": [
        "baseline_model.save_weights(\"initial_weights.h5\")"
      ],
      "metadata": {
        "id": "CnK3RpUzmsrw"
      },
      "execution_count": null,
      "outputs": []
    },
    {
      "cell_type": "code",
      "source": [
        "class_weight_model = tf.keras.models.clone_model(baseline_model)\n",
        "focal_loss_model = tf.keras.models.clone_model(baseline_model)\n",
        "cat_focal_model = tf.keras.models.clone_model(baseline_model)"
      ],
      "metadata": {
        "id": "S4HpudCAmVWF"
      },
      "execution_count": null,
      "outputs": []
    },
    {
      "cell_type": "code",
      "source": [
        "baseline_model.compile(optimizer = \"adam\",\n",
        "                       loss = \"binary_crossentropy\",\n",
        "                       metrics = [tf.keras.metrics.Precision(),\n",
        "                                  tf.keras.metrics.Recall()])"
      ],
      "metadata": {
        "id": "NXzSi1n1UfZx"
      },
      "execution_count": null,
      "outputs": []
    },
    {
      "cell_type": "code",
      "source": [
        "history = baseline_model.fit(X_train, y_train,\n",
        "                   epochs=16,\n",
        "                   batch_size=128,\n",
        "                   validation_split=0.2)"
      ],
      "metadata": {
        "colab": {
          "base_uri": "https://localhost:8080/"
        },
        "id": "vWxmjWCwnWcI",
        "outputId": "12031d9a-7201-40ac-b4b0-77cd1f122a72"
      },
      "execution_count": null,
      "outputs": [
        {
          "output_type": "stream",
          "name": "stdout",
          "text": [
            "Epoch 1/16\n",
            "500/500 [==============================] - 5s 4ms/step - loss: 0.0970 - precision_1: 0.0659 - recall_1: 0.0708 - val_loss: 0.0536 - val_precision_1: 0.9804 - val_recall_1: 0.2008\n",
            "Epoch 2/16\n",
            "500/500 [==============================] - 2s 4ms/step - loss: 0.0489 - precision_1: 0.9804 - recall_1: 0.4228 - val_loss: 0.0475 - val_precision_1: 0.9685 - val_recall_1: 0.4940\n",
            "Epoch 3/16\n",
            "500/500 [==============================] - 2s 3ms/step - loss: 0.0452 - precision_1: 0.9544 - recall_1: 0.5307 - val_loss: 0.0455 - val_precision_1: 0.9466 - val_recall_1: 0.4980\n",
            "Epoch 4/16\n",
            "500/500 [==============================] - 2s 3ms/step - loss: 0.0433 - precision_1: 0.9490 - recall_1: 0.5507 - val_loss: 0.0449 - val_precision_1: 0.9407 - val_recall_1: 0.5100\n",
            "Epoch 5/16\n",
            "500/500 [==============================] - 2s 3ms/step - loss: 0.0430 - precision_1: 0.9482 - recall_1: 0.5423 - val_loss: 0.0446 - val_precision_1: 0.9209 - val_recall_1: 0.5141\n",
            "Epoch 6/16\n",
            "500/500 [==============================] - 6s 11ms/step - loss: 0.0420 - precision_1: 0.9379 - recall_1: 0.5592 - val_loss: 0.0441 - val_precision_1: 0.9677 - val_recall_1: 0.4819\n",
            "Epoch 7/16\n",
            "500/500 [==============================] - 2s 5ms/step - loss: 0.0419 - precision_1: 0.9539 - recall_1: 0.5465 - val_loss: 0.0439 - val_precision_1: 0.9155 - val_recall_1: 0.5221\n",
            "Epoch 8/16\n",
            "500/500 [==============================] - 2s 4ms/step - loss: 0.0409 - precision_1: 0.9458 - recall_1: 0.5529 - val_loss: 0.0440 - val_precision_1: 0.8933 - val_recall_1: 0.5382\n",
            "Epoch 9/16\n",
            "500/500 [==============================] - 2s 4ms/step - loss: 0.0411 - precision_1: 0.9500 - recall_1: 0.5624 - val_loss: 0.0445 - val_precision_1: 0.9328 - val_recall_1: 0.5020\n",
            "Epoch 10/16\n",
            "500/500 [==============================] - 2s 3ms/step - loss: 0.0406 - precision_1: 0.9442 - recall_1: 0.5550 - val_loss: 0.0441 - val_precision_1: 0.9265 - val_recall_1: 0.5060\n",
            "Epoch 11/16\n",
            "500/500 [==============================] - 2s 3ms/step - loss: 0.0396 - precision_1: 0.9501 - recall_1: 0.5634 - val_loss: 0.0438 - val_precision_1: 0.9621 - val_recall_1: 0.5100\n",
            "Epoch 12/16\n",
            "500/500 [==============================] - 2s 3ms/step - loss: 0.0397 - precision_1: 0.9458 - recall_1: 0.5539 - val_loss: 0.0433 - val_precision_1: 0.9416 - val_recall_1: 0.5181\n",
            "Epoch 13/16\n",
            "500/500 [==============================] - 2s 5ms/step - loss: 0.0396 - precision_1: 0.9501 - recall_1: 0.5634 - val_loss: 0.0437 - val_precision_1: 0.9493 - val_recall_1: 0.5261\n",
            "Epoch 14/16\n",
            "500/500 [==============================] - 2s 4ms/step - loss: 0.0392 - precision_1: 0.9642 - recall_1: 0.5698 - val_loss: 0.0434 - val_precision_1: 0.9353 - val_recall_1: 0.5221\n",
            "Epoch 15/16\n",
            "500/500 [==============================] - 2s 3ms/step - loss: 0.0388 - precision_1: 0.9621 - recall_1: 0.5634 - val_loss: 0.0435 - val_precision_1: 0.9552 - val_recall_1: 0.5141\n",
            "Epoch 16/16\n",
            "500/500 [==============================] - 2s 3ms/step - loss: 0.0382 - precision_1: 0.9586 - recall_1: 0.5634 - val_loss: 0.0431 - val_precision_1: 0.9357 - val_recall_1: 0.5261\n"
          ]
        }
      ]
    },
    {
      "cell_type": "code",
      "source": [
        "baseline_model.evaluate(X_test, y_test)"
      ],
      "metadata": {
        "colab": {
          "base_uri": "https://localhost:8080/"
        },
        "id": "7wJlbVEjnx6T",
        "outputId": "78ad607e-fe59-4807-ed21-1885a97b596d"
      },
      "execution_count": null,
      "outputs": [
        {
          "output_type": "stream",
          "name": "stdout",
          "text": [
            "625/625 [==============================] - 3s 4ms/step - loss: 0.0390 - precision_1: 0.9043 - recall_1: 0.5686\n"
          ]
        },
        {
          "output_type": "execute_result",
          "data": {
            "text/plain": [
              "[0.03901128098368645, 0.9042553305625916, 0.568561851978302]"
            ]
          },
          "metadata": {},
          "execution_count": 26
        }
      ]
    },
    {
      "cell_type": "code",
      "source": [
        "predictions = baseline_model.predict(X_test)"
      ],
      "metadata": {
        "id": "jClIuE-XoYHc"
      },
      "execution_count": null,
      "outputs": []
    },
    {
      "cell_type": "code",
      "source": [
        "threshold = 0.1\n",
        "predictions_binary = np.where(predictions > threshold, 1, 0)\n",
        "print(classification_report(y_test, predictions_binary, digits=4))\n",
        "print(confusion_matrix(y_test, predictions_binary))"
      ],
      "metadata": {
        "colab": {
          "base_uri": "https://localhost:8080/"
        },
        "id": "8eR13fx8oCTQ",
        "outputId": "ace63782-db0a-4631-8d94-f85021c8e0c5"
      },
      "execution_count": null,
      "outputs": [
        {
          "output_type": "stream",
          "name": "stdout",
          "text": [
            "              precision    recall  f1-score   support\n",
            "\n",
            "           0     0.9940    0.9969    0.9954     19701\n",
            "           1     0.7469    0.6020    0.6667       299\n",
            "\n",
            "    accuracy                         0.9910     20000\n",
            "   macro avg     0.8704    0.7995    0.8311     20000\n",
            "weighted avg     0.9903    0.9910    0.9905     20000\n",
            "\n",
            "[[19640    61]\n",
            " [  119   180]]\n"
          ]
        }
      ]
    },
    {
      "cell_type": "code",
      "source": [
        "threshold = 0.5\n",
        "predictions_binary = np.where(predictions > threshold, 1, 0)\n",
        "print(classification_report(y_test, predictions_binary, digits=4))\n",
        "print(confusion_matrix(y_test, predictions_binary))"
      ],
      "metadata": {
        "colab": {
          "base_uri": "https://localhost:8080/"
        },
        "id": "QgGcu6YroCRI",
        "outputId": "12cb798d-953f-4154-bba9-058c471cc29a"
      },
      "execution_count": null,
      "outputs": [
        {
          "output_type": "stream",
          "name": "stdout",
          "text": [
            "              precision    recall  f1-score   support\n",
            "\n",
            "           0     0.9935    0.9991    0.9963     19701\n",
            "           1     0.9043    0.5686    0.6982       299\n",
            "\n",
            "    accuracy                         0.9927     20000\n",
            "   macro avg     0.9489    0.7838    0.8472     20000\n",
            "weighted avg     0.9922    0.9927    0.9918     20000\n",
            "\n",
            "[[19683    18]\n",
            " [  129   170]]\n"
          ]
        }
      ]
    },
    {
      "cell_type": "markdown",
      "source": [
        "## 2.Model"
      ],
      "metadata": {
        "id": "V0LINwjIpBLb"
      }
    },
    {
      "cell_type": "code",
      "source": [
        "class_weight_model.load_weights(\"/content/initial_weights.h5\")"
      ],
      "metadata": {
        "id": "BtGJQIK-teFO"
      },
      "execution_count": null,
      "outputs": []
    },
    {
      "cell_type": "code",
      "source": [
        "class_weight_model.compile(optimizer = \"adam\",\n",
        "                       loss = \"binary_crossentropy\",\n",
        "                       metrics = [tf.keras.metrics.Precision(),\n",
        "                                  tf.keras.metrics.Recall()])\n",
        "history_cw = class_weight_model.fit(X_train, y_train,\n",
        "                   epochs=16,\n",
        "                   batch_size=128,\n",
        "                   validation_split=0.2,\n",
        "                   class_weight={0: 0.5076786394212464, 1: 35.05785123966942}\n",
        ")"
      ],
      "metadata": {
        "colab": {
          "base_uri": "https://localhost:8080/"
        },
        "id": "OVpt--Qar5zK",
        "outputId": "7ec4fead-366d-48e0-d531-3c3d04b183cb"
      },
      "execution_count": null,
      "outputs": [
        {
          "output_type": "stream",
          "name": "stdout",
          "text": [
            "Epoch 1/16\n",
            "500/500 [==============================] - 6s 5ms/step - loss: 0.5155 - precision_4: 0.0609 - recall_4: 0.6698 - val_loss: 0.3790 - val_precision_4: 0.1834 - val_recall_4: 0.5850\n",
            "Epoch 2/16\n",
            "500/500 [==============================] - 2s 4ms/step - loss: 0.4505 - precision_4: 0.1469 - recall_4: 0.6489 - val_loss: 0.4129 - val_precision_4: 0.1727 - val_recall_4: 0.5889\n",
            "Epoch 3/16\n",
            "500/500 [==============================] - 2s 4ms/step - loss: 0.4387 - precision_4: 0.1830 - recall_4: 0.6395 - val_loss: 0.3301 - val_precision_4: 0.2857 - val_recall_4: 0.5771\n",
            "Epoch 4/16\n",
            "500/500 [==============================] - 4s 8ms/step - loss: 0.4319 - precision_4: 0.2166 - recall_4: 0.6364 - val_loss: 0.4066 - val_precision_4: 0.2574 - val_recall_4: 0.5850\n",
            "Epoch 5/16\n",
            "500/500 [==============================] - 4s 8ms/step - loss: 0.4268 - precision_4: 0.2660 - recall_4: 0.6353 - val_loss: 0.4297 - val_precision_4: 0.1333 - val_recall_4: 0.6206\n",
            "Epoch 6/16\n",
            "500/500 [==============================] - 2s 4ms/step - loss: 0.4206 - precision_4: 0.2305 - recall_4: 0.6458 - val_loss: 0.3391 - val_precision_4: 0.3133 - val_recall_4: 0.5771\n",
            "Epoch 7/16\n",
            "500/500 [==============================] - 5s 9ms/step - loss: 0.4212 - precision_4: 0.2401 - recall_4: 0.6405 - val_loss: 0.4062 - val_precision_4: 0.2200 - val_recall_4: 0.6008\n",
            "Epoch 8/16\n",
            "500/500 [==============================] - 5s 10ms/step - loss: 0.4111 - precision_4: 0.2737 - recall_4: 0.6541 - val_loss: 0.3436 - val_precision_4: 0.3436 - val_recall_4: 0.5731\n",
            "Epoch 9/16\n",
            "500/500 [==============================] - 2s 5ms/step - loss: 0.4105 - precision_4: 0.2408 - recall_4: 0.6479 - val_loss: 0.3347 - val_precision_4: 0.3480 - val_recall_4: 0.5613\n",
            "Epoch 10/16\n",
            "500/500 [==============================] - 2s 3ms/step - loss: 0.4076 - precision_4: 0.2422 - recall_4: 0.6583 - val_loss: 0.3428 - val_precision_4: 0.2852 - val_recall_4: 0.5771\n",
            "Epoch 11/16\n",
            "500/500 [==============================] - 2s 4ms/step - loss: 0.4061 - precision_4: 0.2562 - recall_4: 0.6562 - val_loss: 0.3626 - val_precision_4: 0.2086 - val_recall_4: 0.5968\n",
            "Epoch 12/16\n",
            "500/500 [==============================] - 2s 3ms/step - loss: 0.3999 - precision_4: 0.2402 - recall_4: 0.6688 - val_loss: 0.3621 - val_precision_4: 0.2082 - val_recall_4: 0.5850\n",
            "Epoch 13/16\n",
            "500/500 [==============================] - 2s 3ms/step - loss: 0.3976 - precision_4: 0.2305 - recall_4: 0.6583 - val_loss: 0.3393 - val_precision_4: 0.2589 - val_recall_4: 0.5771\n",
            "Epoch 14/16\n",
            "500/500 [==============================] - 2s 5ms/step - loss: 0.3958 - precision_4: 0.2132 - recall_4: 0.6698 - val_loss: 0.3397 - val_precision_4: 0.3150 - val_recall_4: 0.5652\n",
            "Epoch 15/16\n",
            "500/500 [==============================] - 3s 6ms/step - loss: 0.3912 - precision_4: 0.2066 - recall_4: 0.6740 - val_loss: 0.3078 - val_precision_4: 0.3250 - val_recall_4: 0.5652\n",
            "Epoch 16/16\n",
            "500/500 [==============================] - 2s 5ms/step - loss: 0.3852 - precision_4: 0.2258 - recall_4: 0.6782 - val_loss: 0.3178 - val_precision_4: 0.2620 - val_recall_4: 0.5810\n"
          ]
        }
      ]
    },
    {
      "cell_type": "code",
      "source": [
        "predictions = class_weight_model.predict(X_test)"
      ],
      "metadata": {
        "colab": {
          "base_uri": "https://localhost:8080/"
        },
        "id": "3rtRncl7vY3q",
        "outputId": "d6f7ac37-b780-40bf-f2ed-fd6b088875c6"
      },
      "execution_count": null,
      "outputs": [
        {
          "output_type": "stream",
          "name": "stdout",
          "text": [
            "625/625 [==============================] - 3s 5ms/step\n"
          ]
        }
      ]
    },
    {
      "cell_type": "code",
      "source": [
        "threshold = 0.4\n",
        "predictions_binary = np.where(predictions > threshold, 1, 0)\n",
        "print(classification_report(y_test, predictions_binary, digits=4))\n",
        "print(confusion_matrix(y_test, predictions_binary))"
      ],
      "metadata": {
        "colab": {
          "base_uri": "https://localhost:8080/"
        },
        "id": "9m7AWbSBu1Bb",
        "outputId": "dc7f7844-cd35-4d3d-ef65-ba2770ff8069"
      },
      "execution_count": null,
      "outputs": [
        {
          "output_type": "stream",
          "name": "stdout",
          "text": [
            "              precision    recall  f1-score   support\n",
            "\n",
            "           0     0.9945    0.9128    0.9519     19698\n",
            "           1     0.1053    0.6689    0.1819       302\n",
            "\n",
            "    accuracy                         0.9092     20000\n",
            "   macro avg     0.5499    0.7909    0.5669     20000\n",
            "weighted avg     0.9810    0.9092    0.9403     20000\n",
            "\n",
            "[[17981  1717]\n",
            " [  100   202]]\n"
          ]
        }
      ]
    },
    {
      "cell_type": "markdown",
      "source": [
        "## Categorical Focal Loss"
      ],
      "metadata": {
        "id": "DDf-xS4aIBlK"
      }
    },
    {
      "cell_type": "code",
      "source": [
        "y_pred = [[0.1], [0.8]]\n",
        "y_true = [[0], [0]]\n",
        "\n",
        "tf.keras.losses.BinaryFocalCrossentropy(reduction=\"none\")(y_true, y_pred)"
      ],
      "metadata": {
        "colab": {
          "base_uri": "https://localhost:8080/"
        },
        "id": "REqHXDd7KRR6",
        "outputId": "32a8138b-8616-4a41-de7f-bac4ac399ef6"
      },
      "execution_count": null,
      "outputs": [
        {
          "output_type": "execute_result",
          "data": {
            "text/plain": [
              "<tf.Tensor: shape=(2,), dtype=float32, numpy=array([0.0010536, 1.03004  ], dtype=float32)>"
            ]
          },
          "metadata": {},
          "execution_count": 11
        }
      ]
    },
    {
      "cell_type": "code",
      "source": [
        "1.03004 / 0.0010536"
      ],
      "metadata": {
        "colab": {
          "base_uri": "https://localhost:8080/"
        },
        "id": "9S8jJ9QBLdxe",
        "outputId": "f146e625-affc-4259-e47a-5bf3f318d9eb"
      },
      "execution_count": null,
      "outputs": [
        {
          "output_type": "execute_result",
          "data": {
            "text/plain": [
              "977.6385725132878"
            ]
          },
          "metadata": {},
          "execution_count": 14
        }
      ]
    },
    {
      "cell_type": "code",
      "source": [
        "y_pred = [[0.1], [0.8]]\n",
        "y_true = [[0], [0]]\n",
        "\n",
        "tf.keras.losses.BinaryCrossentropy(reduction=\"none\")(y_true, y_pred)"
      ],
      "metadata": {
        "colab": {
          "base_uri": "https://localhost:8080/"
        },
        "id": "QpB_H3_8IA5j",
        "outputId": "ce4ef905-97b7-4bb3-fd58-ea4fc6c14468"
      },
      "execution_count": null,
      "outputs": [
        {
          "output_type": "execute_result",
          "data": {
            "text/plain": [
              "<tf.Tensor: shape=(2,), dtype=float32, numpy=array([0.10536041, 1.6094375 ], dtype=float32)>"
            ]
          },
          "metadata": {},
          "execution_count": 13
        }
      ]
    },
    {
      "cell_type": "code",
      "source": [
        "1.6094375 / 0.10536041"
      ],
      "metadata": {
        "colab": {
          "base_uri": "https://localhost:8080/"
        },
        "id": "V2WPNTf8LLOS",
        "outputId": "64deb3aa-dd03-41a2-9a4c-8f2955ebff3b"
      },
      "execution_count": null,
      "outputs": [
        {
          "output_type": "execute_result",
          "data": {
            "text/plain": [
              "15.275543251967225"
            ]
          },
          "metadata": {},
          "execution_count": 15
        }
      ]
    },
    {
      "cell_type": "code",
      "source": [
        "y_pred = [[0.1], [0.8]]\n",
        "y_true = [[0], [0]]\n",
        "\n",
        "tf.keras.losses.BinaryFocalCrossentropy(alpha=1, gamma = 0.0, reduction=\"none\")(y_true, y_pred)"
      ],
      "metadata": {
        "colab": {
          "base_uri": "https://localhost:8080/"
        },
        "id": "N0jrohDtLnIt",
        "outputId": "22a1ed46-5556-4e93-cf13-e560b4501e05"
      },
      "execution_count": null,
      "outputs": [
        {
          "output_type": "execute_result",
          "data": {
            "text/plain": [
              "<tf.Tensor: shape=(2,), dtype=float32, numpy=array([0.10536041, 1.6094375 ], dtype=float32)>"
            ]
          },
          "metadata": {},
          "execution_count": 18
        }
      ]
    },
    {
      "cell_type": "code",
      "source": [
        "class CategoricalFocalCE(tf.keras.losses.Loss):\n",
        "    def __init__(self, alpha=0.25, gamma = 2.0, **kwargs):\n",
        "        super().__init__(**kwargs)\n",
        "        self.alpha = alpha\n",
        "        self.gamma = gamma\n",
        "\n",
        "    def call(self, y_true, y_pred):\n",
        "        y_true = tf.cast(y_true, dtype = tf.float32)\n",
        "        y_pred = tf.cast(y_pred, dtype = tf.float32)\n",
        "\n",
        "        # objective likelihoodu maximize etmek\n",
        "        # likelihood'un negatifini alarak\n",
        "        # -likelihood'u minimize\n",
        "        # toplamaya çevirmek için log-likelihood --> Çarpımlar -> Toplam\n",
        "        # -log-likelihood\n",
        "        # negative log-likelihood\n",
        "\n",
        "        y_pred = tf.clip_by_value(y_pred, \n",
        "                                  tf.keras.backend.epsilon(), \n",
        "                                  1 - tf.keras.backend.epsilon())\n",
        "\n",
        "        cce = -y_true * tf.math.log(y_pred)\n",
        "\n",
        "        # gamma = focusing parameter\n",
        "        modulating_factor = tf.pow(1 - y_pred, self.gamma)\n",
        "\n",
        "        # alpha = weighting parameter\n",
        "        weighting_factor = tf.multiply(self.alpha, modulating_factor)\n",
        "\n",
        "        # focal loss\n",
        "        focal_loss = tf.multiply(weighting_factor, cce)\n",
        "\n",
        "        return focal_loss"
      ],
      "metadata": {
        "id": "iIyDMaVzL2iq"
      },
      "execution_count": null,
      "outputs": []
    },
    {
      "cell_type": "code",
      "source": [
        "y_pred = [[0.1, 0.9], [0.8, 0.2]]\n",
        "y_true = [[0, 1], [0, 1]]"
      ],
      "metadata": {
        "id": "cbRyLO6ORxDy"
      },
      "execution_count": null,
      "outputs": []
    },
    {
      "cell_type": "code",
      "source": [
        "cfce = CategoricalFocalCE(alpha = [0.5, 33.0], \n",
        "                          gamma = 2.0)\n",
        "cfce(y_true, y_pred)"
      ],
      "metadata": {
        "colab": {
          "base_uri": "https://localhost:8080/"
        },
        "id": "Fkaa_1s2L2gb",
        "outputId": "7fd1dea2-ca92-44bf-856f-52d93d712cab"
      },
      "execution_count": null,
      "outputs": [
        {
          "output_type": "execute_result",
          "data": {
            "text/plain": [
              "<tf.Tensor: shape=(), dtype=float32, numpy=8.506524>"
            ]
          },
          "metadata": {},
          "execution_count": 25
        }
      ]
    },
    {
      "cell_type": "code",
      "source": [
        "input_layer = tf.keras.Input(shape = (10, ))\n",
        "\n",
        "x = tf.keras.layers.Dense(64)(input_layer)\n",
        "x = tf.nn.relu(x)\n",
        "\n",
        "x = tf.keras.layers.Dense(32)(x)\n",
        "x = tf.nn.relu(x)\n",
        "\n",
        "x = tf.keras.layers.Dropout(0.3)(x)\n",
        "\n",
        "x = tf.keras.layers.Dense(2)(x)\n",
        "x = tf.keras.layers.Activation(\"softmax\")(x)\n",
        "\n",
        "categorical_focal_model = tf.keras.Model(input_layer, x)\n",
        "categorical_focal_model.summary()"
      ],
      "metadata": {
        "colab": {
          "base_uri": "https://localhost:8080/"
        },
        "id": "rexheMyeScfC",
        "outputId": "255e276d-5c1a-4f11-dfca-a0c9d46eb690"
      },
      "execution_count": null,
      "outputs": [
        {
          "output_type": "stream",
          "name": "stdout",
          "text": [
            "Model: \"model_2\"\n",
            "_________________________________________________________________\n",
            " Layer (type)                Output Shape              Param #   \n",
            "=================================================================\n",
            " input_3 (InputLayer)        [(None, 10)]              0         \n",
            "                                                                 \n",
            " dense_6 (Dense)             (None, 64)                704       \n",
            "                                                                 \n",
            " tf.nn.relu_4 (TFOpLambda)   (None, 64)                0         \n",
            "                                                                 \n",
            " dense_7 (Dense)             (None, 32)                2080      \n",
            "                                                                 \n",
            " tf.nn.relu_5 (TFOpLambda)   (None, 32)                0         \n",
            "                                                                 \n",
            " dropout_2 (Dropout)         (None, 32)                0         \n",
            "                                                                 \n",
            " dense_8 (Dense)             (None, 2)                 66        \n",
            "                                                                 \n",
            " activation_2 (Activation)   (None, 2)                 0         \n",
            "                                                                 \n",
            "=================================================================\n",
            "Total params: 2,850\n",
            "Trainable params: 2,850\n",
            "Non-trainable params: 0\n",
            "_________________________________________________________________\n"
          ]
        }
      ]
    },
    {
      "cell_type": "code",
      "source": [
        "categorical_focal_model.compile(optimizer = \"adam\",\n",
        "                       loss = CategoricalFocalCE(alpha = [0.5, 33.0], \n",
        "                                                 gamma = 2.0),\n",
        "                       metrics = [tf.keras.metrics.Precision(class_id=1),\n",
        "                                  tf.keras.metrics.Recall(class_id=1)])\n",
        "\n",
        "y_train_ohe = tf.keras.utils.to_categorical(y_train, 2)\n",
        "\n",
        "history = categorical_focal_model.fit(X_train, y_train_ohe,\n",
        "                   epochs=64,\n",
        "                   batch_size=128,\n",
        "                   validation_split=0.2)"
      ],
      "metadata": {
        "colab": {
          "base_uri": "https://localhost:8080/",
          "height": 1000
        },
        "id": "JO_VdKt1Scc4",
        "outputId": "f52ad47e-3730-4a1c-b662-d0dec7ca0c5d"
      },
      "execution_count": null,
      "outputs": [
        {
          "output_type": "stream",
          "name": "stdout",
          "text": [
            "Epoch 1/64\n",
            "500/500 [==============================] - 3s 4ms/step - loss: 0.0765 - precision_3: 0.0327 - recall_3: 0.6497 - val_loss: 0.0689 - val_precision_3: 0.0478 - val_recall_3: 0.6827\n",
            "Epoch 2/64\n",
            "500/500 [==============================] - 2s 3ms/step - loss: 0.0677 - precision_3: 0.0489 - recall_3: 0.6921 - val_loss: 0.0681 - val_precision_3: 0.0629 - val_recall_3: 0.6426\n",
            "Epoch 3/64\n",
            "500/500 [==============================] - 2s 3ms/step - loss: 0.0648 - precision_3: 0.0570 - recall_3: 0.6815 - val_loss: 0.0671 - val_precision_3: 0.0795 - val_recall_3: 0.6104\n",
            "Epoch 4/64\n",
            "500/500 [==============================] - 2s 3ms/step - loss: 0.0632 - precision_3: 0.0657 - recall_3: 0.6603 - val_loss: 0.0649 - val_precision_3: 0.0775 - val_recall_3: 0.6185\n",
            "Epoch 5/64\n",
            "500/500 [==============================] - 2s 3ms/step - loss: 0.0617 - precision_3: 0.0751 - recall_3: 0.6593 - val_loss: 0.0641 - val_precision_3: 0.0954 - val_recall_3: 0.6145\n",
            "Epoch 6/64\n",
            "500/500 [==============================] - 2s 3ms/step - loss: 0.0591 - precision_3: 0.0814 - recall_3: 0.6497 - val_loss: 0.0634 - val_precision_3: 0.1038 - val_recall_3: 0.6024\n",
            "Epoch 7/64\n",
            "500/500 [==============================] - 2s 3ms/step - loss: 0.0588 - precision_3: 0.0796 - recall_3: 0.6582 - val_loss: 0.0633 - val_precision_3: 0.0748 - val_recall_3: 0.6145\n",
            "Epoch 8/64\n",
            "500/500 [==============================] - 2s 3ms/step - loss: 0.0579 - precision_3: 0.0908 - recall_3: 0.6529 - val_loss: 0.0636 - val_precision_3: 0.1012 - val_recall_3: 0.6104\n",
            "Epoch 9/64\n",
            "500/500 [==============================] - 2s 3ms/step - loss: 0.0558 - precision_3: 0.0880 - recall_3: 0.6571 - val_loss: 0.0630 - val_precision_3: 0.0706 - val_recall_3: 0.6345\n",
            "Epoch 10/64\n",
            "500/500 [==============================] - 2s 3ms/step - loss: 0.0559 - precision_3: 0.0999 - recall_3: 0.6603 - val_loss: 0.0635 - val_precision_3: 0.1083 - val_recall_3: 0.6024\n",
            "Epoch 11/64\n",
            "500/500 [==============================] - 2s 3ms/step - loss: 0.0551 - precision_3: 0.1062 - recall_3: 0.6444 - val_loss: 0.0657 - val_precision_3: 0.1080 - val_recall_3: 0.5984\n",
            "Epoch 12/64\n",
            "500/500 [==============================] - 2s 3ms/step - loss: 0.0553 - precision_3: 0.1004 - recall_3: 0.6677 - val_loss: 0.0637 - val_precision_3: 0.1398 - val_recall_3: 0.5823\n",
            "Epoch 13/64\n",
            "500/500 [==============================] - 2s 3ms/step - loss: 0.0545 - precision_3: 0.1088 - recall_3: 0.6603 - val_loss: 0.0652 - val_precision_3: 0.1062 - val_recall_3: 0.6024\n",
            "Epoch 14/64\n",
            "500/500 [==============================] - 2s 3ms/step - loss: 0.0544 - precision_3: 0.0999 - recall_3: 0.6677 - val_loss: 0.0660 - val_precision_3: 0.1416 - val_recall_3: 0.5823\n",
            "Epoch 15/64\n",
            "500/500 [==============================] - 2s 3ms/step - loss: 0.0535 - precision_3: 0.1127 - recall_3: 0.6783 - val_loss: 0.0652 - val_precision_3: 0.1258 - val_recall_3: 0.5863\n",
            "Epoch 16/64\n",
            "500/500 [==============================] - 2s 3ms/step - loss: 0.0530 - precision_3: 0.1137 - recall_3: 0.6635 - val_loss: 0.0665 - val_precision_3: 0.1072 - val_recall_3: 0.6024\n",
            "Epoch 17/64\n",
            "500/500 [==============================] - 2s 3ms/step - loss: 0.0524 - precision_3: 0.1104 - recall_3: 0.6857 - val_loss: 0.0674 - val_precision_3: 0.1096 - val_recall_3: 0.6024\n",
            "Epoch 18/64\n",
            " 57/500 [==>...........................] - ETA: 1s - loss: 0.0489 - precision_3: 0.1185 - recall_3: 0.7333"
          ]
        },
        {
          "output_type": "error",
          "ename": "KeyboardInterrupt",
          "evalue": "ignored",
          "traceback": [
            "\u001b[0;31m---------------------------------------------------------------------------\u001b[0m",
            "\u001b[0;31mKeyboardInterrupt\u001b[0m                         Traceback (most recent call last)",
            "\u001b[0;32m<ipython-input-41-2ead2139e3a5>\u001b[0m in \u001b[0;36m<module>\u001b[0;34m\u001b[0m\n\u001b[1;32m      7\u001b[0m \u001b[0my_train_ohe\u001b[0m \u001b[0;34m=\u001b[0m \u001b[0mtf\u001b[0m\u001b[0;34m.\u001b[0m\u001b[0mkeras\u001b[0m\u001b[0;34m.\u001b[0m\u001b[0mutils\u001b[0m\u001b[0;34m.\u001b[0m\u001b[0mto_categorical\u001b[0m\u001b[0;34m(\u001b[0m\u001b[0my_train\u001b[0m\u001b[0;34m,\u001b[0m \u001b[0;36m2\u001b[0m\u001b[0;34m)\u001b[0m\u001b[0;34m\u001b[0m\u001b[0;34m\u001b[0m\u001b[0m\n\u001b[1;32m      8\u001b[0m \u001b[0;34m\u001b[0m\u001b[0m\n\u001b[0;32m----> 9\u001b[0;31m history = categorical_focal_model.fit(X_train, y_train_ohe,\n\u001b[0m\u001b[1;32m     10\u001b[0m                    \u001b[0mepochs\u001b[0m\u001b[0;34m=\u001b[0m\u001b[0;36m64\u001b[0m\u001b[0;34m,\u001b[0m\u001b[0;34m\u001b[0m\u001b[0;34m\u001b[0m\u001b[0m\n\u001b[1;32m     11\u001b[0m                    \u001b[0mbatch_size\u001b[0m\u001b[0;34m=\u001b[0m\u001b[0;36m128\u001b[0m\u001b[0;34m,\u001b[0m\u001b[0;34m\u001b[0m\u001b[0;34m\u001b[0m\u001b[0m\n",
            "\u001b[0;32m/usr/local/lib/python3.9/dist-packages/keras/utils/traceback_utils.py\u001b[0m in \u001b[0;36merror_handler\u001b[0;34m(*args, **kwargs)\u001b[0m\n\u001b[1;32m     63\u001b[0m         \u001b[0mfiltered_tb\u001b[0m \u001b[0;34m=\u001b[0m \u001b[0;32mNone\u001b[0m\u001b[0;34m\u001b[0m\u001b[0;34m\u001b[0m\u001b[0m\n\u001b[1;32m     64\u001b[0m         \u001b[0;32mtry\u001b[0m\u001b[0;34m:\u001b[0m\u001b[0;34m\u001b[0m\u001b[0;34m\u001b[0m\u001b[0m\n\u001b[0;32m---> 65\u001b[0;31m             \u001b[0;32mreturn\u001b[0m \u001b[0mfn\u001b[0m\u001b[0;34m(\u001b[0m\u001b[0;34m*\u001b[0m\u001b[0margs\u001b[0m\u001b[0;34m,\u001b[0m \u001b[0;34m**\u001b[0m\u001b[0mkwargs\u001b[0m\u001b[0;34m)\u001b[0m\u001b[0;34m\u001b[0m\u001b[0;34m\u001b[0m\u001b[0m\n\u001b[0m\u001b[1;32m     66\u001b[0m         \u001b[0;32mexcept\u001b[0m \u001b[0mException\u001b[0m \u001b[0;32mas\u001b[0m \u001b[0me\u001b[0m\u001b[0;34m:\u001b[0m\u001b[0;34m\u001b[0m\u001b[0;34m\u001b[0m\u001b[0m\n\u001b[1;32m     67\u001b[0m             \u001b[0mfiltered_tb\u001b[0m \u001b[0;34m=\u001b[0m \u001b[0m_process_traceback_frames\u001b[0m\u001b[0;34m(\u001b[0m\u001b[0me\u001b[0m\u001b[0;34m.\u001b[0m\u001b[0m__traceback__\u001b[0m\u001b[0;34m)\u001b[0m\u001b[0;34m\u001b[0m\u001b[0;34m\u001b[0m\u001b[0m\n",
            "\u001b[0;32m/usr/local/lib/python3.9/dist-packages/keras/engine/training.py\u001b[0m in \u001b[0;36mfit\u001b[0;34m(self, x, y, batch_size, epochs, verbose, callbacks, validation_split, validation_data, shuffle, class_weight, sample_weight, initial_epoch, steps_per_epoch, validation_steps, validation_batch_size, validation_freq, max_queue_size, workers, use_multiprocessing)\u001b[0m\n\u001b[1;32m   1648\u001b[0m                         ):\n\u001b[1;32m   1649\u001b[0m                             \u001b[0mcallbacks\u001b[0m\u001b[0;34m.\u001b[0m\u001b[0mon_train_batch_begin\u001b[0m\u001b[0;34m(\u001b[0m\u001b[0mstep\u001b[0m\u001b[0;34m)\u001b[0m\u001b[0;34m\u001b[0m\u001b[0;34m\u001b[0m\u001b[0m\n\u001b[0;32m-> 1650\u001b[0;31m                             \u001b[0mtmp_logs\u001b[0m \u001b[0;34m=\u001b[0m \u001b[0mself\u001b[0m\u001b[0;34m.\u001b[0m\u001b[0mtrain_function\u001b[0m\u001b[0;34m(\u001b[0m\u001b[0miterator\u001b[0m\u001b[0;34m)\u001b[0m\u001b[0;34m\u001b[0m\u001b[0;34m\u001b[0m\u001b[0m\n\u001b[0m\u001b[1;32m   1651\u001b[0m                             \u001b[0;32mif\u001b[0m \u001b[0mdata_handler\u001b[0m\u001b[0;34m.\u001b[0m\u001b[0mshould_sync\u001b[0m\u001b[0;34m:\u001b[0m\u001b[0;34m\u001b[0m\u001b[0;34m\u001b[0m\u001b[0m\n\u001b[1;32m   1652\u001b[0m                                 \u001b[0mcontext\u001b[0m\u001b[0;34m.\u001b[0m\u001b[0masync_wait\u001b[0m\u001b[0;34m(\u001b[0m\u001b[0;34m)\u001b[0m\u001b[0;34m\u001b[0m\u001b[0;34m\u001b[0m\u001b[0m\n",
            "\u001b[0;32m/usr/local/lib/python3.9/dist-packages/tensorflow/python/util/traceback_utils.py\u001b[0m in \u001b[0;36merror_handler\u001b[0;34m(*args, **kwargs)\u001b[0m\n\u001b[1;32m    148\u001b[0m     \u001b[0mfiltered_tb\u001b[0m \u001b[0;34m=\u001b[0m \u001b[0;32mNone\u001b[0m\u001b[0;34m\u001b[0m\u001b[0;34m\u001b[0m\u001b[0m\n\u001b[1;32m    149\u001b[0m     \u001b[0;32mtry\u001b[0m\u001b[0;34m:\u001b[0m\u001b[0;34m\u001b[0m\u001b[0;34m\u001b[0m\u001b[0m\n\u001b[0;32m--> 150\u001b[0;31m       \u001b[0;32mreturn\u001b[0m \u001b[0mfn\u001b[0m\u001b[0;34m(\u001b[0m\u001b[0;34m*\u001b[0m\u001b[0margs\u001b[0m\u001b[0;34m,\u001b[0m \u001b[0;34m**\u001b[0m\u001b[0mkwargs\u001b[0m\u001b[0;34m)\u001b[0m\u001b[0;34m\u001b[0m\u001b[0;34m\u001b[0m\u001b[0m\n\u001b[0m\u001b[1;32m    151\u001b[0m     \u001b[0;32mexcept\u001b[0m \u001b[0mException\u001b[0m \u001b[0;32mas\u001b[0m \u001b[0me\u001b[0m\u001b[0;34m:\u001b[0m\u001b[0;34m\u001b[0m\u001b[0;34m\u001b[0m\u001b[0m\n\u001b[1;32m    152\u001b[0m       \u001b[0mfiltered_tb\u001b[0m \u001b[0;34m=\u001b[0m \u001b[0m_process_traceback_frames\u001b[0m\u001b[0;34m(\u001b[0m\u001b[0me\u001b[0m\u001b[0;34m.\u001b[0m\u001b[0m__traceback__\u001b[0m\u001b[0;34m)\u001b[0m\u001b[0;34m\u001b[0m\u001b[0;34m\u001b[0m\u001b[0m\n",
            "\u001b[0;32m/usr/local/lib/python3.9/dist-packages/tensorflow/python/eager/polymorphic_function/polymorphic_function.py\u001b[0m in \u001b[0;36m__call__\u001b[0;34m(self, *args, **kwds)\u001b[0m\n\u001b[1;32m    878\u001b[0m \u001b[0;34m\u001b[0m\u001b[0m\n\u001b[1;32m    879\u001b[0m       \u001b[0;32mwith\u001b[0m \u001b[0mOptionalXlaContext\u001b[0m\u001b[0;34m(\u001b[0m\u001b[0mself\u001b[0m\u001b[0;34m.\u001b[0m\u001b[0m_jit_compile\u001b[0m\u001b[0;34m)\u001b[0m\u001b[0;34m:\u001b[0m\u001b[0;34m\u001b[0m\u001b[0;34m\u001b[0m\u001b[0m\n\u001b[0;32m--> 880\u001b[0;31m         \u001b[0mresult\u001b[0m \u001b[0;34m=\u001b[0m \u001b[0mself\u001b[0m\u001b[0;34m.\u001b[0m\u001b[0m_call\u001b[0m\u001b[0;34m(\u001b[0m\u001b[0;34m*\u001b[0m\u001b[0margs\u001b[0m\u001b[0;34m,\u001b[0m \u001b[0;34m**\u001b[0m\u001b[0mkwds\u001b[0m\u001b[0;34m)\u001b[0m\u001b[0;34m\u001b[0m\u001b[0;34m\u001b[0m\u001b[0m\n\u001b[0m\u001b[1;32m    881\u001b[0m \u001b[0;34m\u001b[0m\u001b[0m\n\u001b[1;32m    882\u001b[0m       \u001b[0mnew_tracing_count\u001b[0m \u001b[0;34m=\u001b[0m \u001b[0mself\u001b[0m\u001b[0;34m.\u001b[0m\u001b[0mexperimental_get_tracing_count\u001b[0m\u001b[0;34m(\u001b[0m\u001b[0;34m)\u001b[0m\u001b[0;34m\u001b[0m\u001b[0;34m\u001b[0m\u001b[0m\n",
            "\u001b[0;32m/usr/local/lib/python3.9/dist-packages/tensorflow/python/eager/polymorphic_function/polymorphic_function.py\u001b[0m in \u001b[0;36m_call\u001b[0;34m(self, *args, **kwds)\u001b[0m\n\u001b[1;32m    910\u001b[0m       \u001b[0;31m# In this case we have created variables on the first call, so we run the\u001b[0m\u001b[0;34m\u001b[0m\u001b[0;34m\u001b[0m\u001b[0m\n\u001b[1;32m    911\u001b[0m       \u001b[0;31m# defunned version which is guaranteed to never create variables.\u001b[0m\u001b[0;34m\u001b[0m\u001b[0;34m\u001b[0m\u001b[0m\n\u001b[0;32m--> 912\u001b[0;31m       \u001b[0;32mreturn\u001b[0m \u001b[0mself\u001b[0m\u001b[0;34m.\u001b[0m\u001b[0m_no_variable_creation_fn\u001b[0m\u001b[0;34m(\u001b[0m\u001b[0;34m*\u001b[0m\u001b[0margs\u001b[0m\u001b[0;34m,\u001b[0m \u001b[0;34m**\u001b[0m\u001b[0mkwds\u001b[0m\u001b[0;34m)\u001b[0m  \u001b[0;31m# pylint: disable=not-callable\u001b[0m\u001b[0;34m\u001b[0m\u001b[0;34m\u001b[0m\u001b[0m\n\u001b[0m\u001b[1;32m    913\u001b[0m     \u001b[0;32melif\u001b[0m \u001b[0mself\u001b[0m\u001b[0;34m.\u001b[0m\u001b[0m_variable_creation_fn\u001b[0m \u001b[0;32mis\u001b[0m \u001b[0;32mnot\u001b[0m \u001b[0;32mNone\u001b[0m\u001b[0;34m:\u001b[0m\u001b[0;34m\u001b[0m\u001b[0;34m\u001b[0m\u001b[0m\n\u001b[1;32m    914\u001b[0m       \u001b[0;31m# Release the lock early so that multiple threads can perform the call\u001b[0m\u001b[0;34m\u001b[0m\u001b[0;34m\u001b[0m\u001b[0m\n",
            "\u001b[0;32m/usr/local/lib/python3.9/dist-packages/tensorflow/python/eager/polymorphic_function/tracing_compiler.py\u001b[0m in \u001b[0;36m__call__\u001b[0;34m(self, *args, **kwargs)\u001b[0m\n\u001b[1;32m    132\u001b[0m       (concrete_function,\n\u001b[1;32m    133\u001b[0m        filtered_flat_args) = self._maybe_define_function(args, kwargs)\n\u001b[0;32m--> 134\u001b[0;31m     return concrete_function._call_flat(\n\u001b[0m\u001b[1;32m    135\u001b[0m         filtered_flat_args, captured_inputs=concrete_function.captured_inputs)  # pylint: disable=protected-access\n\u001b[1;32m    136\u001b[0m \u001b[0;34m\u001b[0m\u001b[0m\n",
            "\u001b[0;32m/usr/local/lib/python3.9/dist-packages/tensorflow/python/eager/polymorphic_function/monomorphic_function.py\u001b[0m in \u001b[0;36m_call_flat\u001b[0;34m(self, args, captured_inputs, cancellation_manager)\u001b[0m\n\u001b[1;32m   1743\u001b[0m         and executing_eagerly):\n\u001b[1;32m   1744\u001b[0m       \u001b[0;31m# No tape is watching; skip to running the function.\u001b[0m\u001b[0;34m\u001b[0m\u001b[0;34m\u001b[0m\u001b[0m\n\u001b[0;32m-> 1745\u001b[0;31m       return self._build_call_outputs(self._inference_function.call(\n\u001b[0m\u001b[1;32m   1746\u001b[0m           ctx, args, cancellation_manager=cancellation_manager))\n\u001b[1;32m   1747\u001b[0m     forward_backward = self._select_forward_and_backward_functions(\n",
            "\u001b[0;32m/usr/local/lib/python3.9/dist-packages/tensorflow/python/eager/polymorphic_function/monomorphic_function.py\u001b[0m in \u001b[0;36mcall\u001b[0;34m(self, ctx, args, cancellation_manager)\u001b[0m\n\u001b[1;32m    376\u001b[0m       \u001b[0;32mwith\u001b[0m \u001b[0m_InterpolateFunctionError\u001b[0m\u001b[0;34m(\u001b[0m\u001b[0mself\u001b[0m\u001b[0;34m)\u001b[0m\u001b[0;34m:\u001b[0m\u001b[0;34m\u001b[0m\u001b[0;34m\u001b[0m\u001b[0m\n\u001b[1;32m    377\u001b[0m         \u001b[0;32mif\u001b[0m \u001b[0mcancellation_manager\u001b[0m \u001b[0;32mis\u001b[0m \u001b[0;32mNone\u001b[0m\u001b[0;34m:\u001b[0m\u001b[0;34m\u001b[0m\u001b[0;34m\u001b[0m\u001b[0m\n\u001b[0;32m--> 378\u001b[0;31m           outputs = execute.execute(\n\u001b[0m\u001b[1;32m    379\u001b[0m               \u001b[0mstr\u001b[0m\u001b[0;34m(\u001b[0m\u001b[0mself\u001b[0m\u001b[0;34m.\u001b[0m\u001b[0msignature\u001b[0m\u001b[0;34m.\u001b[0m\u001b[0mname\u001b[0m\u001b[0;34m)\u001b[0m\u001b[0;34m,\u001b[0m\u001b[0;34m\u001b[0m\u001b[0;34m\u001b[0m\u001b[0m\n\u001b[1;32m    380\u001b[0m               \u001b[0mnum_outputs\u001b[0m\u001b[0;34m=\u001b[0m\u001b[0mself\u001b[0m\u001b[0;34m.\u001b[0m\u001b[0m_num_outputs\u001b[0m\u001b[0;34m,\u001b[0m\u001b[0;34m\u001b[0m\u001b[0;34m\u001b[0m\u001b[0m\n",
            "\u001b[0;32m/usr/local/lib/python3.9/dist-packages/tensorflow/python/eager/execute.py\u001b[0m in \u001b[0;36mquick_execute\u001b[0;34m(op_name, num_outputs, inputs, attrs, ctx, name)\u001b[0m\n\u001b[1;32m     50\u001b[0m   \u001b[0;32mtry\u001b[0m\u001b[0;34m:\u001b[0m\u001b[0;34m\u001b[0m\u001b[0;34m\u001b[0m\u001b[0m\n\u001b[1;32m     51\u001b[0m     \u001b[0mctx\u001b[0m\u001b[0;34m.\u001b[0m\u001b[0mensure_initialized\u001b[0m\u001b[0;34m(\u001b[0m\u001b[0;34m)\u001b[0m\u001b[0;34m\u001b[0m\u001b[0;34m\u001b[0m\u001b[0m\n\u001b[0;32m---> 52\u001b[0;31m     tensors = pywrap_tfe.TFE_Py_Execute(ctx._handle, device_name, op_name,\n\u001b[0m\u001b[1;32m     53\u001b[0m                                         inputs, attrs, num_outputs)\n\u001b[1;32m     54\u001b[0m   \u001b[0;32mexcept\u001b[0m \u001b[0mcore\u001b[0m\u001b[0;34m.\u001b[0m\u001b[0m_NotOkStatusException\u001b[0m \u001b[0;32mas\u001b[0m \u001b[0me\u001b[0m\u001b[0;34m:\u001b[0m\u001b[0;34m\u001b[0m\u001b[0;34m\u001b[0m\u001b[0m\n",
            "\u001b[0;31mKeyboardInterrupt\u001b[0m: "
          ]
        }
      ]
    },
    {
      "cell_type": "code",
      "source": [
        "predictions = categorical_focal_model.predict(X_test)\n",
        "predictions"
      ],
      "metadata": {
        "colab": {
          "base_uri": "https://localhost:8080/"
        },
        "id": "eataNWkQW4Z-",
        "outputId": "d584a1bf-c910-42ef-85e6-eeb83763ac92"
      },
      "execution_count": null,
      "outputs": [
        {
          "output_type": "stream",
          "name": "stdout",
          "text": [
            "625/625 [==============================] - 1s 1ms/step\n"
          ]
        },
        {
          "output_type": "execute_result",
          "data": {
            "text/plain": [
              "array([[0.5979302 , 0.4020698 ],\n",
              "       [0.6397258 , 0.36027423],\n",
              "       [0.67771566, 0.3222843 ],\n",
              "       ...,\n",
              "       [0.73343   , 0.26657   ],\n",
              "       [0.57642317, 0.42357686],\n",
              "       [0.6497188 , 0.3502812 ]], dtype=float32)"
            ]
          },
          "metadata": {},
          "execution_count": 42
        }
      ]
    },
    {
      "cell_type": "code",
      "source": [
        "prediction_classes = np.argmax(predictions, axis=-1)\n",
        "print(classification_report(y_test, prediction_classes, digits=4))\n",
        "print(confusion_matrix(y_test, prediction_classes))"
      ],
      "metadata": {
        "colab": {
          "base_uri": "https://localhost:8080/"
        },
        "id": "lEwa2V_EScZq",
        "outputId": "59a8e754-c63e-46d5-fec0-b2c25f166ae6"
      },
      "execution_count": null,
      "outputs": [
        {
          "output_type": "stream",
          "name": "stdout",
          "text": [
            "              precision    recall  f1-score   support\n",
            "\n",
            "           0     0.9936    0.9340    0.9629     19701\n",
            "           1     0.1222    0.6054    0.2034       299\n",
            "\n",
            "    accuracy                         0.9291     20000\n",
            "   macro avg     0.5579    0.7697    0.5831     20000\n",
            "weighted avg     0.9806    0.9291    0.9515     20000\n",
            "\n",
            "[[18401  1300]\n",
            " [  118   181]]\n"
          ]
        }
      ]
    },
    {
      "cell_type": "code",
      "source": [],
      "metadata": {
        "id": "XSTKgr1BScXF"
      },
      "execution_count": null,
      "outputs": []
    }
  ]
}